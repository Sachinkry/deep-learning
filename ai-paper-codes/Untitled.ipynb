{
 "cells": [
  {
   "cell_type": "code",
   "execution_count": null,
   "id": "58876361-c1d2-4749-9589-397e6b82a774",
   "metadata": {},
   "outputs": [],
   "source": [
    "# 1. Preprocessing\n",
    "# 2. Creating the dataset\n",
    "# 3. Model architecture\n",
    "# 4. "
   ]
  },
  {
   "cell_type": "code",
   "execution_count": null,
   "id": "dfa99875-8865-4713-b522-ff3228cc3d6f",
   "metadata": {},
   "outputs": [],
   "source": [
    "# ---------- Pre-Processing ---------------\n",
    "# replace newline with spaces\n",
    "# remove uppercase words and any token that contain numbers\n",
    "# separate words, punctuations\n",
    "# convert all the tokens to lowercase"
   ]
  },
  {
   "cell_type": "code",
   "execution_count": 49,
   "id": "21f8dba0-748b-405f-bc0f-06ad0327cb64",
   "metadata": {},
   "outputs": [],
   "source": [
    "with open('don-quixote996.txt', 'r', encoding='utf-8') as file:\n",
    "    text = file.read()"
   ]
  },
  {
   "cell_type": "code",
   "execution_count": 50,
   "id": "d3b16fea-7773-4359-8721-b1524b3376b8",
   "metadata": {},
   "outputs": [
    {
     "data": {
      "text/plain": [
       "'\\ufeff\\n\\nIt was with considerable reluctance that I abandoned in favour of the\\npresent undertaking what had long been a favourite project: that of a\\nnew edition of Shelton’s “Don Quixote,” which has now become a somewhat\\nscarce book. There are some—and I confess myself to be one—for whom\\nShelton’s racy old version, with all its defects, has a charm that no\\nmodern translation, however skilful or correct,'"
      ]
     },
     "execution_count": 50,
     "metadata": {},
     "output_type": "execute_result"
    }
   ],
   "source": [
    "text[:400]    # text in its raw form"
   ]
  },
  {
   "cell_type": "code",
   "execution_count": 51,
   "id": "59fa9510-db93-4e5b-9324-8fdb74bdadf6",
   "metadata": {},
   "outputs": [],
   "source": [
    "import re\n",
    "text = re.sub(r'\\n', ' ', text)  # Replace newlines with spaces\n",
    "\n",
    "tokens = re.findall(r'\\b\\w+\\b|[.,!?;]', text) # separates words and punctuations"
   ]
  },
  {
   "cell_type": "code",
   "execution_count": 70,
   "id": "8589b7c9-5e65-4729-8f78-3e9fbab8f966",
   "metadata": {},
   "outputs": [],
   "source": [
    "# Remove tokens that are entirely in uppercase or contain numbers\n",
    "tokens = [token for token in tokens if not token.isupper() and not re.search(r'\\d', token) and not token.startswith('_')]\n",
    "tokens = [token.lower() for token in tokens]  # Convert to lowercase"
   ]
  },
  {
   "cell_type": "code",
   "execution_count": 71,
   "id": "0580aff0-6bd6-471b-8e5b-208ad983b8a1",
   "metadata": {},
   "outputs": [
    {
     "data": {
      "text/plain": [
       "471432"
      ]
     },
     "execution_count": 71,
     "metadata": {},
     "output_type": "execute_result"
    }
   ],
   "source": [
    "len(tokens)"
   ]
  },
  {
   "cell_type": "code",
   "execution_count": null,
   "id": "ee7115ac-8ce9-46e4-933b-eee40c1c840e",
   "metadata": {},
   "outputs": [],
   "source": [
    "# -------------------- Build the Dataset ---------------------"
   ]
  },
  {
   "cell_type": "code",
   "execution_count": 79,
   "id": "98f9581c-0909-47ba-8c48-7fbdfb7bdaa3",
   "metadata": {},
   "outputs": [
    {
     "data": {
      "text/plain": [
       "15401"
      ]
     },
     "execution_count": 79,
     "metadata": {},
     "output_type": "execute_result"
    }
   ],
   "source": [
    "\n",
    "# To work with unique words/symbols, we can create a vocabulary set\n",
    "vocab = sorted(list(set(tokens)))\n",
    "len(vocab)"
   ]
  },
  {
   "cell_type": "code",
   "execution_count": 84,
   "id": "f9894602-5b79-44f6-a8e7-127c0a309546",
   "metadata": {},
   "outputs": [],
   "source": [
    "stoi = {word: idx for idx, word in enumerate(vocab)}\n",
    "itos = {idx: word for word, idx in stoi.items()}"
   ]
  },
  {
   "cell_type": "code",
   "execution_count": null,
   "id": "092de3eb-88eb-48f7-abc3-6bb2e127d89d",
   "metadata": {},
   "outputs": [],
   "source": []
  },
  {
   "cell_type": "code",
   "execution_count": null,
   "id": "231205b7-7ac3-470b-9612-db92de13cafd",
   "metadata": {},
   "outputs": [],
   "source": []
  },
  {
   "cell_type": "code",
   "execution_count": null,
   "id": "95595525-a7f6-4191-86c6-db3278f1ca45",
   "metadata": {},
   "outputs": [],
   "source": []
  },
  {
   "cell_type": "code",
   "execution_count": null,
   "id": "8cb574c2-faeb-48af-b107-cf5d8f64d3d5",
   "metadata": {},
   "outputs": [],
   "source": []
  },
  {
   "cell_type": "code",
   "execution_count": null,
   "id": "37aa84eb-4c74-40af-a2b8-7ab59919daa4",
   "metadata": {},
   "outputs": [],
   "source": []
  }
 ],
 "metadata": {
  "kernelspec": {
   "display_name": "Python 3 (ipykernel)",
   "language": "python",
   "name": "python3"
  },
  "language_info": {
   "codemirror_mode": {
    "name": "ipython",
    "version": 3
   },
   "file_extension": ".py",
   "mimetype": "text/x-python",
   "name": "python",
   "nbconvert_exporter": "python",
   "pygments_lexer": "ipython3",
   "version": "3.10.11"
  }
 },
 "nbformat": 4,
 "nbformat_minor": 5
}
