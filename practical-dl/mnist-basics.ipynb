{
 "cells": [
  {
   "cell_type": "code",
   "execution_count": 1,
   "id": "f95b2d13",
   "metadata": {},
   "outputs": [],
   "source": [
    "# By the end of this chapter, you should be able to explain:\n",
    "# 1. the role of tensors, and of broadcasting\n",
    "# 2. stochastic gradient descent (SGD)\n",
    "# 3. choice of loss function\n",
    "# 4. role of mini-batches\n",
    "# 5. math that a basic neural net is doing\n",
    "# able to put these pieces together"
   ]
  },
  {
   "cell_type": "code",
   "execution_count": 3,
   "id": "6474e9f4",
   "metadata": {},
   "outputs": [
    {
     "data": {
      "text/html": [
       "\n",
       "<style>\n",
       "    /* Turns off some styling */\n",
       "    progress {\n",
       "        /* gets rid of default border in Firefox and Opera. */\n",
       "        border: none;\n",
       "        /* Needs to be in here for Safari polyfill so background images work as expected. */\n",
       "        background-size: auto;\n",
       "    }\n",
       "    progress:not([value]), progress:not([value])::-webkit-progress-bar {\n",
       "        background: repeating-linear-gradient(45deg, #7e7e7e, #7e7e7e 10px, #5c5c5c 10px, #5c5c5c 20px);\n",
       "    }\n",
       "    .progress-bar-interrupted, .progress-bar-interrupted::-webkit-progress-bar {\n",
       "        background: #F44336;\n",
       "    }\n",
       "</style>\n"
      ],
      "text/plain": [
       "<IPython.core.display.HTML object>"
      ]
     },
     "metadata": {},
     "output_type": "display_data"
    },
    {
     "data": {
      "text/html": [
       "\n",
       "    <div>\n",
       "      <progress value='3219456' class='' max='3214948' style='width:300px; height:20px; vertical-align: middle;'></progress>\n",
       "      100.14% [3219456/3214948 00:01&lt;00:00]\n",
       "    </div>\n",
       "    "
      ],
      "text/plain": [
       "<IPython.core.display.HTML object>"
      ]
     },
     "metadata": {},
     "output_type": "display_data"
    }
   ],
   "source": [
    "from fastai.vision.all import *\n",
    "path = untar_data(URLs.MNIST_SAMPLE)"
   ]
  },
  {
   "cell_type": "code",
   "execution_count": 4,
   "id": "7105d7f5",
   "metadata": {},
   "outputs": [],
   "source": [
    "#hide\n",
    "Path.BASE_PATH = path"
   ]
  },
  {
   "cell_type": "code",
   "execution_count": 5,
   "id": "40bf6aa0",
   "metadata": {},
   "outputs": [
    {
     "data": {
      "text/plain": [
       "(#3) [Path('labels.csv'),Path('train'),Path('valid')]"
      ]
     },
     "execution_count": 5,
     "metadata": {},
     "output_type": "execute_result"
    }
   ],
   "source": [
    "path.ls()"
   ]
  },
  {
   "cell_type": "code",
   "execution_count": 6,
   "id": "3ea1f5e0",
   "metadata": {},
   "outputs": [
    {
     "data": {
      "text/plain": [
       "(#2) [Path('train/3'),Path('train/7')]"
      ]
     },
     "execution_count": 6,
     "metadata": {},
     "output_type": "execute_result"
    }
   ],
   "source": [
    "(path/'train').ls()   # let's see what's inside training set"
   ]
  },
  {
   "cell_type": "code",
   "execution_count": 7,
   "id": "1e9ce86a",
   "metadata": {},
   "outputs": [
    {
     "data": {
      "text/plain": [
       "(#6131) [Path('train/3/10.png'),Path('train/3/10000.png'),Path('train/3/10011.png'),Path('train/3/10031.png'),Path('train/3/10034.png'),Path('train/3/10042.png'),Path('train/3/10052.png'),Path('train/3/1007.png'),Path('train/3/10074.png'),Path('train/3/10091.png')...]"
      ]
     },
     "execution_count": 7,
     "metadata": {},
     "output_type": "execute_result"
    }
   ],
   "source": [
    "# let's look into one of these folders of 3's and 7's\n",
    "threes = (path/'train'/'3').ls().sorted()\n",
    "sevens = (path/'train'/'7').ls().sorted()\n",
    "threes"
   ]
  },
  {
   "cell_type": "code",
   "execution_count": 8,
   "id": "6e668a24",
   "metadata": {},
   "outputs": [
    {
     "data": {
      "image/png": "[encoded data removed]",
      "text/plain": [
       "<PIL.PngImagePlugin.PngImageFile image mode=L size=28x28>"
      ]
     },
     "execution_count": 8,
     "metadata": {},
     "output_type": "execute_result"
    }
   ],
   "source": [
    "im3_path = threes[1]\n",
    "im3 = Image.open(im3_path)\n",
    "im3"
   ]
  },
  {
   "cell_type": "code",
   "execution_count": 16,
   "id": "d4db47d1",
   "metadata": {},
   "outputs": [
    {
     "data": {
      "text/plain": [
       "((28, 28),\n",
       " array([[  0,   0,   0,   0,   0,   0],\n",
       "        [  0,   0,   0,   0,   0,  29],\n",
       "        [  0,   0,   0,  48, 166, 224],\n",
       "        [  0,  93, 244, 249, 253, 187],\n",
       "        [  0, 107, 253, 253, 230,  48],\n",
       "        [  0,   3,  20,  20,  15,   0]], dtype=uint8))"
      ]
     },
     "execution_count": 16,
     "metadata": {},
     "output_type": "execute_result"
    }
   ],
   "source": [
    "# computer stores everything as number; \n",
    "# let's convert this image into NumPy array or PyTorch tensor and \n",
    "# see what it looks like\n",
    "array(im3).shape, array(im3)[4:10, 4:10]"
   ]
  },
  {
   "cell_type": "code",
   "execution_count": 17,
   "id": "7d07dd36",
   "metadata": {},
   "outputs": [
    {
     "data": {
      "text/plain": [
       "tensor([[  0,   0,   0,   0,   0,   0],\n",
       "        [  0,   0,   0,   0,   0,  29],\n",
       "        [  0,   0,   0,  48, 166, 224],\n",
       "        [  0,  93, 244, 249, 253, 187],\n",
       "        [  0, 107, 253, 253, 230,  48],\n",
       "        [  0,   3,  20,  20,  15,   0]], dtype=torch.uint8)"
      ]
     },
     "execution_count": 17,
     "metadata": {},
     "output_type": "execute_result"
    }
   ],
   "source": [
    "tensor(im3)[4:10, 4:10]"
   ]
  },
  {
   "cell_type": "code",
   "execution_count": 19,
   "id": "715622f6",
   "metadata": {},
   "outputs": [
    {
     "data": {
      "text/html": [
       "<style type=\"text/css\">\n",
       "#T_e2bb9_row0_col0, #T_e2bb9_row0_col1, #T_e2bb9_row0_col2, #T_e2bb9_row0_col3, #T_e2bb9_row0_col4, #T_e2bb9_row0_col5, #T_e2bb9_row0_col6, #T_e2bb9_row0_col7, #T_e2bb9_row0_col8, #T_e2bb9_row0_col9, #T_e2bb9_row0_col10, #T_e2bb9_row0_col11, #T_e2bb9_row0_col12, #T_e2bb9_row0_col13, #T_e2bb9_row0_col14, #T_e2bb9_row0_col15, #T_e2bb9_row0_col16, #T_e2bb9_row0_col17, #T_e2bb9_row0_col18, #T_e2bb9_row0_col19, #T_e2bb9_row0_col20, #T_e2bb9_row0_col21, #T_e2bb9_row0_col22, #T_e2bb9_row0_col23, #T_e2bb9_row0_col24, #T_e2bb9_row0_col25, #T_e2bb9_row0_col26, #T_e2bb9_row0_col27, #T_e2bb9_row1_col0, #T_e2bb9_row1_col1, #T_e2bb9_row1_col2, #T_e2bb9_row1_col3, #T_e2bb9_row1_col4, #T_e2bb9_row1_col5, #T_e2bb9_row1_col6, #T_e2bb9_row1_col7, #T_e2bb9_row1_col8, #T_e2bb9_row1_col9, #T_e2bb9_row1_col10, #T_e2bb9_row1_col11, #T_e2bb9_row1_col12, #T_e2bb9_row1_col13, #T_e2bb9_row1_col14, #T_e2bb9_row1_col15, #T_e2bb9_row1_col16, #T_e2bb9_row1_col17, #T_e2bb9_row1_col18, #T_e2bb9_row1_col19, #T_e2bb9_row1_col20, #T_e2bb9_row1_col21, #T_e2bb9_row1_col22, #T_e2bb9_row1_col23, #T_e2bb9_row1_col24, #T_e2bb9_row1_col25, #T_e2bb9_row1_col26, #T_e2bb9_row1_col27, #T_e2bb9_row2_col0, #T_e2bb9_row2_col1, #T_e2bb9_row2_col2, #T_e2bb9_row2_col3, #T_e2bb9_row2_col4, #T_e2bb9_row2_col5, #T_e2bb9_row2_col6, #T_e2bb9_row2_col7, #T_e2bb9_row2_col8, #T_e2bb9_row2_col9, #T_e2bb9_row2_col10, #T_e2bb9_row2_col11, #T_e2bb9_row2_col12, #T_e2bb9_row2_col13, #T_e2bb9_row2_col14, #T_e2bb9_row2_col15, #T_e2bb9_row2_col16, #T_e2bb9_row2_col17, #T_e2bb9_row2_col18, #T_e2bb9_row2_col19, #T_e2bb9_row2_col20, #T_e2bb9_row2_col21, #T_e2bb9_row2_col22, #T_e2bb9_row2_col23, #T_e2bb9_row2_col24, #T_e2bb9_row2_col25, #T_e2bb9_row2_col26, #T_e2bb9_row2_col27, #T_e2bb9_row3_col0, #T_e2bb9_row3_col1, #T_e2bb9_row3_col2, #T_e2bb9_row3_col3, #T_e2bb9_row3_col4, #T_e2bb9_row3_col5, #T_e2bb9_row3_col6, #T_e2bb9_row3_col7, #T_e2bb9_row3_col8, #T_e2bb9_row3_col9, #T_e2bb9_row3_col10, #T_e2bb9_row3_col11, #T_e2bb9_row3_col12, #T_e2bb9_row3_col13, #T_e2bb9_row3_col14, #T_e2bb9_row3_col15, #T_e2bb9_row3_col16, #T_e2bb9_row3_col17, #T_e2bb9_row3_col18, #T_e2bb9_row3_col19, #T_e2bb9_row3_col20, #T_e2bb9_row3_col21, #T_e2bb9_row3_col22, #T_e2bb9_row3_col23, #T_e2bb9_row3_col24, #T_e2bb9_row3_col25, #T_e2bb9_row3_col26, #T_e2bb9_row3_col27, #T_e2bb9_row4_col0, #T_e2bb9_row4_col1, #T_e2bb9_row4_col2, #T_e2bb9_row4_col3, #T_e2bb9_row4_col4, #T_e2bb9_row4_col5, #T_e2bb9_row4_col6, #T_e2bb9_row4_col7, #T_e2bb9_row4_col8, #T_e2bb9_row4_col9, #T_e2bb9_row4_col10, #T_e2bb9_row4_col11, #T_e2bb9_row4_col12, #T_e2bb9_row4_col13, #T_e2bb9_row4_col14, #T_e2bb9_row4_col15, #T_e2bb9_row4_col16, #T_e2bb9_row4_col17, #T_e2bb9_row4_col18, #T_e2bb9_row4_col19, #T_e2bb9_row4_col20, #T_e2bb9_row4_col21, #T_e2bb9_row4_col22, #T_e2bb9_row4_col23, #T_e2bb9_row4_col24, #T_e2bb9_row4_col25, #T_e2bb9_row4_col26, #T_e2bb9_row4_col27, #T_e2bb9_row5_col0, #T_e2bb9_row5_col1, #T_e2bb9_row5_col2, #T_e2bb9_row5_col3, #T_e2bb9_row5_col4, #T_e2bb9_row5_col5, #T_e2bb9_row5_col6, #T_e2bb9_row5_col7, #T_e2bb9_row5_col8, #T_e2bb9_row5_col19, #T_e2bb9_row5_col20, #T_e2bb9_row5_col21, #T_e2bb9_row5_col22, #T_e2bb9_row5_col23, #T_e2bb9_row5_col24, #T_e2bb9_row5_col25, #T_e2bb9_row5_col26, #T_e2bb9_row5_col27, #T_e2bb9_row6_col0, #T_e2bb9_row6_col1, #T_e2bb9_row6_col2, #T_e2bb9_row6_col3, #T_e2bb9_row6_col4, #T_e2bb9_row6_col5, #T_e2bb9_row6_col6, #T_e2bb9_row6_col19, #T_e2bb9_row6_col20, #T_e2bb9_row6_col21, #T_e2bb9_row6_col22, #T_e2bb9_row6_col23, #T_e2bb9_row6_col24, #T_e2bb9_row6_col25, #T_e2bb9_row6_col26, #T_e2bb9_row6_col27, #T_e2bb9_row7_col0, #T_e2bb9_row7_col1, #T_e2bb9_row7_col2, #T_e2bb9_row7_col3, #T_e2bb9_row7_col4, #T_e2bb9_row7_col19, #T_e2bb9_row7_col20, #T_e2bb9_row7_col21, #T_e2bb9_row7_col22, #T_e2bb9_row7_col23, #T_e2bb9_row7_col24, #T_e2bb9_row7_col25, #T_e2bb9_row7_col26, #T_e2bb9_row7_col27, #T_e2bb9_row8_col0, #T_e2bb9_row8_col1, #T_e2bb9_row8_col2, #T_e2bb9_row8_col3, #T_e2bb9_row8_col4, #T_e2bb9_row8_col10, #T_e2bb9_row8_col11, #T_e2bb9_row8_col12, #T_e2bb9_row8_col13, #T_e2bb9_row8_col14, #T_e2bb9_row8_col19, #T_e2bb9_row8_col20, #T_e2bb9_row8_col21, #T_e2bb9_row8_col22, #T_e2bb9_row8_col23, #T_e2bb9_row8_col24, #T_e2bb9_row8_col25, #T_e2bb9_row8_col26, #T_e2bb9_row8_col27, #T_e2bb9_row9_col0, #T_e2bb9_row9_col1, #T_e2bb9_row9_col2, #T_e2bb9_row9_col3, #T_e2bb9_row9_col4, #T_e2bb9_row9_col9, #T_e2bb9_row9_col10, #T_e2bb9_row9_col11, #T_e2bb9_row9_col12, #T_e2bb9_row9_col13, #T_e2bb9_row9_col19, #T_e2bb9_row9_col20, #T_e2bb9_row9_col21, #T_e2bb9_row9_col22, #T_e2bb9_row9_col23, #T_e2bb9_row9_col24, #T_e2bb9_row9_col25, #T_e2bb9_row9_col26, #T_e2bb9_row9_col27, #T_e2bb9_row10_col0, #T_e2bb9_row10_col1, #T_e2bb9_row10_col2, #T_e2bb9_row10_col3, #T_e2bb9_row10_col4, #T_e2bb9_row10_col5, #T_e2bb9_row10_col6, #T_e2bb9_row10_col7, #T_e2bb9_row10_col8, #T_e2bb9_row10_col9, #T_e2bb9_row10_col10, #T_e2bb9_row10_col11, #T_e2bb9_row10_col12, #T_e2bb9_row10_col13, #T_e2bb9_row10_col18, #T_e2bb9_row10_col19, #T_e2bb9_row10_col20, #T_e2bb9_row10_col21, #T_e2bb9_row10_col22, #T_e2bb9_row10_col23, #T_e2bb9_row10_col24, #T_e2bb9_row10_col25, #T_e2bb9_row10_col26, #T_e2bb9_row10_col27, #T_e2bb9_row11_col0, #T_e2bb9_row11_col1, #T_e2bb9_row11_col2, #T_e2bb9_row11_col3, #T_e2bb9_row11_col4, #T_e2bb9_row11_col5, #T_e2bb9_row11_col6, #T_e2bb9_row11_col7, #T_e2bb9_row11_col8, #T_e2bb9_row11_col9, #T_e2bb9_row11_col10, #T_e2bb9_row11_col17, #T_e2bb9_row11_col18, #T_e2bb9_row11_col19, #T_e2bb9_row11_col20, #T_e2bb9_row11_col21, #T_e2bb9_row11_col22, #T_e2bb9_row11_col23, #T_e2bb9_row11_col24, #T_e2bb9_row11_col25, #T_e2bb9_row11_col26, #T_e2bb9_row11_col27, #T_e2bb9_row12_col0, #T_e2bb9_row12_col1, #T_e2bb9_row12_col2, #T_e2bb9_row12_col3, #T_e2bb9_row12_col4, #T_e2bb9_row12_col5, #T_e2bb9_row12_col6, #T_e2bb9_row12_col7, #T_e2bb9_row12_col8, #T_e2bb9_row12_col17, #T_e2bb9_row12_col18, #T_e2bb9_row12_col19, #T_e2bb9_row12_col20, #T_e2bb9_row12_col21, #T_e2bb9_row12_col22, #T_e2bb9_row12_col23, #T_e2bb9_row12_col24, #T_e2bb9_row12_col25, #T_e2bb9_row12_col26, #T_e2bb9_row12_col27, #T_e2bb9_row13_col0, #T_e2bb9_row13_col1, #T_e2bb9_row13_col2, #T_e2bb9_row13_col3, #T_e2bb9_row13_col4, #T_e2bb9_row13_col5, #T_e2bb9_row13_col6, #T_e2bb9_row13_col7, #T_e2bb9_row13_col8, #T_e2bb9_row13_col20, #T_e2bb9_row13_col21, #T_e2bb9_row13_col22, #T_e2bb9_row13_col23, #T_e2bb9_row13_col24, #T_e2bb9_row13_col25, #T_e2bb9_row13_col26, #T_e2bb9_row13_col27, #T_e2bb9_row14_col0, #T_e2bb9_row14_col1, #T_e2bb9_row14_col2, #T_e2bb9_row14_col3, #T_e2bb9_row14_col4, #T_e2bb9_row14_col5, #T_e2bb9_row14_col6, #T_e2bb9_row14_col7, #T_e2bb9_row14_col8, #T_e2bb9_row14_col9, #T_e2bb9_row14_col10, #T_e2bb9_row14_col21, #T_e2bb9_row14_col22, #T_e2bb9_row14_col23, #T_e2bb9_row14_col24, #T_e2bb9_row14_col25, #T_e2bb9_row14_col26, #T_e2bb9_row14_col27, #T_e2bb9_row15_col0, #T_e2bb9_row15_col1, #T_e2bb9_row15_col2, #T_e2bb9_row15_col3, #T_e2bb9_row15_col4, #T_e2bb9_row15_col5, #T_e2bb9_row15_col6, #T_e2bb9_row15_col7, #T_e2bb9_row15_col8, #T_e2bb9_row15_col9, #T_e2bb9_row15_col10, #T_e2bb9_row15_col11, #T_e2bb9_row15_col12, #T_e2bb9_row15_col13, #T_e2bb9_row15_col21, #T_e2bb9_row15_col22, #T_e2bb9_row15_col23, #T_e2bb9_row15_col24, #T_e2bb9_row15_col25, #T_e2bb9_row15_col26, #T_e2bb9_row15_col27, #T_e2bb9_row16_col0, #T_e2bb9_row16_col1, #T_e2bb9_row16_col2, #T_e2bb9_row16_col3, #T_e2bb9_row16_col4, #T_e2bb9_row16_col5, #T_e2bb9_row16_col6, #T_e2bb9_row16_col7, #T_e2bb9_row16_col8, #T_e2bb9_row16_col9, #T_e2bb9_row16_col10, #T_e2bb9_row16_col11, #T_e2bb9_row16_col12, #T_e2bb9_row16_col13, #T_e2bb9_row16_col14, #T_e2bb9_row16_col15, #T_e2bb9_row16_col16, #T_e2bb9_row16_col21, #T_e2bb9_row16_col22, #T_e2bb9_row16_col23, #T_e2bb9_row16_col24, #T_e2bb9_row16_col25, #T_e2bb9_row16_col26, #T_e2bb9_row16_col27, #T_e2bb9_row17_col0, #T_e2bb9_row17_col1, #T_e2bb9_row17_col2, #T_e2bb9_row17_col3, #T_e2bb9_row17_col4, #T_e2bb9_row17_col5, #T_e2bb9_row17_col6, #T_e2bb9_row17_col7, #T_e2bb9_row17_col8, #T_e2bb9_row17_col9, #T_e2bb9_row17_col10, #T_e2bb9_row17_col11, #T_e2bb9_row17_col12, #T_e2bb9_row17_col13, #T_e2bb9_row17_col14, #T_e2bb9_row17_col15, #T_e2bb9_row17_col16, #T_e2bb9_row17_col21, #T_e2bb9_row17_col22, #T_e2bb9_row17_col23, #T_e2bb9_row17_col24, #T_e2bb9_row17_col25, #T_e2bb9_row17_col26, #T_e2bb9_row17_col27, #T_e2bb9_row18_col0, #T_e2bb9_row18_col1, #T_e2bb9_row18_col2, #T_e2bb9_row18_col3, #T_e2bb9_row18_col4, #T_e2bb9_row18_col5, #T_e2bb9_row18_col6, #T_e2bb9_row18_col7, #T_e2bb9_row18_col8, #T_e2bb9_row18_col9, #T_e2bb9_row18_col10, #T_e2bb9_row18_col11, #T_e2bb9_row18_col12, #T_e2bb9_row18_col13, #T_e2bb9_row18_col14, #T_e2bb9_row18_col15, #T_e2bb9_row18_col21, #T_e2bb9_row18_col22, #T_e2bb9_row18_col23, #T_e2bb9_row18_col24, #T_e2bb9_row18_col25, #T_e2bb9_row18_col26, #T_e2bb9_row18_col27, #T_e2bb9_row19_col0, #T_e2bb9_row19_col1, #T_e2bb9_row19_col2, #T_e2bb9_row19_col3, #T_e2bb9_row19_col4, #T_e2bb9_row19_col5, #T_e2bb9_row19_col6, #T_e2bb9_row19_col7, #T_e2bb9_row19_col8, #T_e2bb9_row19_col9, #T_e2bb9_row19_col10, #T_e2bb9_row19_col11, #T_e2bb9_row19_col12, #T_e2bb9_row19_col13, #T_e2bb9_row19_col14, #T_e2bb9_row19_col21, #T_e2bb9_row19_col22, #T_e2bb9_row19_col23, #T_e2bb9_row19_col24, #T_e2bb9_row19_col25, #T_e2bb9_row19_col26, #T_e2bb9_row19_col27, #T_e2bb9_row20_col0, #T_e2bb9_row20_col1, #T_e2bb9_row20_col2, #T_e2bb9_row20_col3, #T_e2bb9_row20_col4, #T_e2bb9_row20_col5, #T_e2bb9_row20_col6, #T_e2bb9_row20_col7, #T_e2bb9_row20_col8, #T_e2bb9_row20_col9, #T_e2bb9_row20_col10, #T_e2bb9_row20_col11, #T_e2bb9_row20_col12, #T_e2bb9_row20_col13, #T_e2bb9_row20_col20, #T_e2bb9_row20_col21, #T_e2bb9_row20_col22, #T_e2bb9_row20_col23, #T_e2bb9_row20_col24, #T_e2bb9_row20_col25, #T_e2bb9_row20_col26, #T_e2bb9_row20_col27, #T_e2bb9_row21_col0, #T_e2bb9_row21_col1, #T_e2bb9_row21_col2, #T_e2bb9_row21_col3, #T_e2bb9_row21_col4, #T_e2bb9_row21_col5, #T_e2bb9_row21_col6, #T_e2bb9_row21_col7, #T_e2bb9_row21_col8, #T_e2bb9_row21_col9, #T_e2bb9_row21_col10, #T_e2bb9_row21_col11, #T_e2bb9_row21_col19, #T_e2bb9_row21_col20, #T_e2bb9_row21_col21, #T_e2bb9_row21_col22, #T_e2bb9_row21_col23, #T_e2bb9_row21_col24, #T_e2bb9_row21_col25, #T_e2bb9_row21_col26, #T_e2bb9_row21_col27, #T_e2bb9_row22_col0, #T_e2bb9_row22_col1, #T_e2bb9_row22_col2, #T_e2bb9_row22_col3, #T_e2bb9_row22_col4, #T_e2bb9_row22_col5, #T_e2bb9_row22_col18, #T_e2bb9_row22_col19, #T_e2bb9_row22_col20, #T_e2bb9_row22_col21, #T_e2bb9_row22_col22, #T_e2bb9_row22_col23, #T_e2bb9_row22_col24, #T_e2bb9_row22_col25, #T_e2bb9_row22_col26, #T_e2bb9_row22_col27, #T_e2bb9_row23_col0, #T_e2bb9_row23_col1, #T_e2bb9_row23_col2, #T_e2bb9_row23_col3, #T_e2bb9_row23_col4, #T_e2bb9_row23_col5, #T_e2bb9_row23_col16, #T_e2bb9_row23_col17, #T_e2bb9_row23_col18, #T_e2bb9_row23_col19, #T_e2bb9_row23_col20, #T_e2bb9_row23_col21, #T_e2bb9_row23_col22, #T_e2bb9_row23_col23, #T_e2bb9_row23_col24, #T_e2bb9_row23_col25, #T_e2bb9_row23_col26, #T_e2bb9_row23_col27, #T_e2bb9_row24_col0, #T_e2bb9_row24_col1, #T_e2bb9_row24_col2, #T_e2bb9_row24_col3, #T_e2bb9_row24_col4, #T_e2bb9_row24_col5, #T_e2bb9_row24_col14, #T_e2bb9_row24_col15, #T_e2bb9_row24_col16, #T_e2bb9_row24_col17, #T_e2bb9_row24_col18, #T_e2bb9_row24_col19, #T_e2bb9_row24_col20, #T_e2bb9_row24_col21, #T_e2bb9_row24_col22, #T_e2bb9_row24_col23, #T_e2bb9_row24_col24, #T_e2bb9_row24_col25, #T_e2bb9_row24_col26, #T_e2bb9_row24_col27, #T_e2bb9_row25_col0, #T_e2bb9_row25_col1, #T_e2bb9_row25_col2, #T_e2bb9_row25_col3, #T_e2bb9_row25_col4, #T_e2bb9_row25_col5, #T_e2bb9_row25_col6, #T_e2bb9_row25_col7, #T_e2bb9_row25_col8, #T_e2bb9_row25_col9, #T_e2bb9_row25_col10, #T_e2bb9_row25_col11, #T_e2bb9_row25_col12, #T_e2bb9_row25_col13, #T_e2bb9_row25_col14, #T_e2bb9_row25_col15, #T_e2bb9_row25_col16, #T_e2bb9_row25_col17, #T_e2bb9_row25_col18, #T_e2bb9_row25_col19, #T_e2bb9_row25_col20, #T_e2bb9_row25_col21, #T_e2bb9_row25_col22, #T_e2bb9_row25_col23, #T_e2bb9_row25_col24, #T_e2bb9_row25_col25, #T_e2bb9_row25_col26, #T_e2bb9_row25_col27, #T_e2bb9_row26_col0, #T_e2bb9_row26_col1, #T_e2bb9_row26_col2, #T_e2bb9_row26_col3, #T_e2bb9_row26_col4, #T_e2bb9_row26_col5, #T_e2bb9_row26_col6, #T_e2bb9_row26_col7, #T_e2bb9_row26_col8, #T_e2bb9_row26_col9, #T_e2bb9_row26_col10, #T_e2bb9_row26_col11, #T_e2bb9_row26_col12, #T_e2bb9_row26_col13, #T_e2bb9_row26_col14, #T_e2bb9_row26_col15, #T_e2bb9_row26_col16, #T_e2bb9_row26_col17, #T_e2bb9_row26_col18, #T_e2bb9_row26_col19, #T_e2bb9_row26_col20, #T_e2bb9_row26_col21, #T_e2bb9_row26_col22, #T_e2bb9_row26_col23, #T_e2bb9_row26_col24, #T_e2bb9_row26_col25, #T_e2bb9_row26_col26, #T_e2bb9_row26_col27, #T_e2bb9_row27_col0, #T_e2bb9_row27_col1, #T_e2bb9_row27_col2, #T_e2bb9_row27_col3, #T_e2bb9_row27_col4, #T_e2bb9_row27_col5, #T_e2bb9_row27_col6, #T_e2bb9_row27_col7, #T_e2bb9_row27_col8, #T_e2bb9_row27_col9, #T_e2bb9_row27_col10, #T_e2bb9_row27_col11, #T_e2bb9_row27_col12, #T_e2bb9_row27_col13, #T_e2bb9_row27_col14, #T_e2bb9_row27_col15, #T_e2bb9_row27_col16, #T_e2bb9_row27_col17, #T_e2bb9_row27_col18, #T_e2bb9_row27_col19, #T_e2bb9_row27_col20, #T_e2bb9_row27_col21, #T_e2bb9_row27_col22, #T_e2bb9_row27_col23, #T_e2bb9_row27_col24, #T_e2bb9_row27_col25, #T_e2bb9_row27_col26, #T_e2bb9_row27_col27 {\n",
       "  font-size: 6pt;\n",
       "  background-color: #ffffff;\n",
       "  color: #000000;\n",
       "}\n",
       "#T_e2bb9_row5_col9, #T_e2bb9_row12_col16 {\n",
       "  font-size: 6pt;\n",
       "  background-color: #f1f1f1;\n",
       "  color: #000000;\n",
       "}\n",
       "#T_e2bb9_row5_col10, #T_e2bb9_row5_col17 {\n",
       "  font-size: 6pt;\n",
       "  background-color: #7c7c7c;\n",
       "  color: #f1f1f1;\n",
       "}\n",
       "#T_e2bb9_row5_col11 {\n",
       "  font-size: 6pt;\n",
       "  background-color: #4a4a4a;\n",
       "  color: #f1f1f1;\n",
       "}\n",
       "#T_e2bb9_row5_col12, #T_e2bb9_row5_col13, #T_e2bb9_row5_col14, #T_e2bb9_row6_col10, #T_e2bb9_row6_col11, #T_e2bb9_row6_col15, #T_e2bb9_row6_col16, #T_e2bb9_row6_col17, #T_e2bb9_row7_col8, #T_e2bb9_row7_col16, #T_e2bb9_row7_col17, #T_e2bb9_row8_col5, #T_e2bb9_row8_col6, #T_e2bb9_row8_col7, #T_e2bb9_row8_col16, #T_e2bb9_row8_col17, #T_e2bb9_row9_col16, #T_e2bb9_row10_col15, #T_e2bb9_row13_col15, #T_e2bb9_row14_col15, #T_e2bb9_row14_col16, #T_e2bb9_row14_col17, #T_e2bb9_row14_col18, #T_e2bb9_row15_col17, #T_e2bb9_row15_col18, #T_e2bb9_row15_col19, #T_e2bb9_row16_col18, #T_e2bb9_row16_col19, #T_e2bb9_row16_col20, #T_e2bb9_row17_col18, #T_e2bb9_row17_col19, #T_e2bb9_row18_col18, #T_e2bb9_row18_col19, #T_e2bb9_row19_col17, #T_e2bb9_row19_col18, #T_e2bb9_row20_col16, #T_e2bb9_row20_col17, #T_e2bb9_row21_col15, #T_e2bb9_row21_col16, #T_e2bb9_row23_col7, #T_e2bb9_row23_col8, #T_e2bb9_row23_col9, #T_e2bb9_row23_col10, #T_e2bb9_row23_col11, #T_e2bb9_row24_col7, #T_e2bb9_row24_col8, #T_e2bb9_row24_col9, #T_e2bb9_row24_col10, #T_e2bb9_row24_col11 {\n",
       "  font-size: 6pt;\n",
       "  background-color: #000000;\n",
       "  color: #f1f1f1;\n",
       "}\n",
       "#T_e2bb9_row5_col15 {\n",
       "  font-size: 6pt;\n",
       "  background-color: #606060;\n",
       "  color: #f1f1f1;\n",
       "}\n",
       "#T_e2bb9_row5_col16 {\n",
       "  font-size: 6pt;\n",
       "  background-color: #4d4d4d;\n",
       "  color: #f1f1f1;\n",
       "}\n",
       "#T_e2bb9_row5_col18 {\n",
       "  font-size: 6pt;\n",
       "  background-color: #bbbbbb;\n",
       "  color: #000000;\n",
       "}\n",
       "#T_e2bb9_row6_col7, #T_e2bb9_row8_col9 {\n",
       "  font-size: 6pt;\n",
       "  background-color: #e4e4e4;\n",
       "  color: #000000;\n",
       "}\n",
       "#T_e2bb9_row6_col8, #T_e2bb9_row12_col10 {\n",
       "  font-size: 6pt;\n",
       "  background-color: #6b6b6b;\n",
       "  color: #f1f1f1;\n",
       "}\n",
       "#T_e2bb9_row6_col9, #T_e2bb9_row9_col15 {\n",
       "  font-size: 6pt;\n",
       "  background-color: #222222;\n",
       "  color: #f1f1f1;\n",
       "}\n",
       "#T_e2bb9_row6_col12, #T_e2bb9_row6_col18, #T_e2bb9_row7_col18, #T_e2bb9_row21_col17 {\n",
       "  font-size: 6pt;\n",
       "  background-color: #171717;\n",
       "  color: #f1f1f1;\n",
       "}\n",
       "#T_e2bb9_row6_col13, #T_e2bb9_row7_col15 {\n",
       "  font-size: 6pt;\n",
       "  background-color: #4b4b4b;\n",
       "  color: #f1f1f1;\n",
       "}\n",
       "#T_e2bb9_row6_col14, #T_e2bb9_row11_col14, #T_e2bb9_row12_col12, #T_e2bb9_row12_col14, #T_e2bb9_row13_col12, #T_e2bb9_row13_col14, #T_e2bb9_row22_col14, #T_e2bb9_row23_col12 {\n",
       "  font-size: 6pt;\n",
       "  background-color: #010101;\n",
       "  color: #f1f1f1;\n",
       "}\n",
       "#T_e2bb9_row7_col5 {\n",
       "  font-size: 6pt;\n",
       "  background-color: #272727;\n",
       "  color: #f1f1f1;\n",
       "}\n",
       "#T_e2bb9_row7_col6 {\n",
       "  font-size: 6pt;\n",
       "  background-color: #0a0a0a;\n",
       "  color: #f1f1f1;\n",
       "}\n",
       "#T_e2bb9_row7_col7, #T_e2bb9_row18_col17 {\n",
       "  font-size: 6pt;\n",
       "  background-color: #050505;\n",
       "  color: #f1f1f1;\n",
       "}\n",
       "#T_e2bb9_row7_col9, #T_e2bb9_row12_col15, #T_e2bb9_row14_col19, #T_e2bb9_row23_col6 {\n",
       "  font-size: 6pt;\n",
       "  background-color: #545454;\n",
       "  color: #f1f1f1;\n",
       "}\n",
       "#T_e2bb9_row7_col10 {\n",
       "  font-size: 6pt;\n",
       "  background-color: #e6e6e6;\n",
       "  color: #000000;\n",
       "}\n",
       "#T_e2bb9_row7_col11, #T_e2bb9_row7_col14, #T_e2bb9_row12_col9 {\n",
       "  font-size: 6pt;\n",
       "  background-color: #fafafa;\n",
       "  color: #000000;\n",
       "}\n",
       "#T_e2bb9_row7_col12, #T_e2bb9_row15_col14, #T_e2bb9_row20_col19 {\n",
       "  font-size: 6pt;\n",
       "  background-color: #fbfbfb;\n",
       "  color: #000000;\n",
       "}\n",
       "#T_e2bb9_row7_col13 {\n",
       "  font-size: 6pt;\n",
       "  background-color: #fdfdfd;\n",
       "  color: #000000;\n",
       "}\n",
       "#T_e2bb9_row8_col8 {\n",
       "  font-size: 6pt;\n",
       "  background-color: #1b1b1b;\n",
       "  color: #f1f1f1;\n",
       "}\n",
       "#T_e2bb9_row8_col15 {\n",
       "  font-size: 6pt;\n",
       "  background-color: #4e4e4e;\n",
       "  color: #f1f1f1;\n",
       "}\n",
       "#T_e2bb9_row8_col18 {\n",
       "  font-size: 6pt;\n",
       "  background-color: #767676;\n",
       "  color: #f1f1f1;\n",
       "}\n",
       "#T_e2bb9_row9_col5 {\n",
       "  font-size: 6pt;\n",
       "  background-color: #fcfcfc;\n",
       "  color: #000000;\n",
       "}\n",
       "#T_e2bb9_row9_col6, #T_e2bb9_row9_col7, #T_e2bb9_row19_col20 {\n",
       "  font-size: 6pt;\n",
       "  background-color: #f6f6f6;\n",
       "  color: #000000;\n",
       "}\n",
       "#T_e2bb9_row9_col8, #T_e2bb9_row11_col11 {\n",
       "  font-size: 6pt;\n",
       "  background-color: #f8f8f8;\n",
       "  color: #000000;\n",
       "}\n",
       "#T_e2bb9_row9_col14, #T_e2bb9_row14_col11 {\n",
       "  font-size: 6pt;\n",
       "  background-color: #e8e8e8;\n",
       "  color: #000000;\n",
       "}\n",
       "#T_e2bb9_row9_col17, #T_e2bb9_row10_col16 {\n",
       "  font-size: 6pt;\n",
       "  background-color: #090909;\n",
       "  color: #f1f1f1;\n",
       "}\n",
       "#T_e2bb9_row9_col18 {\n",
       "  font-size: 6pt;\n",
       "  background-color: #d0d0d0;\n",
       "  color: #000000;\n",
       "}\n",
       "#T_e2bb9_row10_col14, #T_e2bb9_row11_col15, #T_e2bb9_row13_col10 {\n",
       "  font-size: 6pt;\n",
       "  background-color: #060606;\n",
       "  color: #f1f1f1;\n",
       "}\n",
       "#T_e2bb9_row10_col17 {\n",
       "  font-size: 6pt;\n",
       "  background-color: #979797;\n",
       "  color: #f1f1f1;\n",
       "}\n",
       "#T_e2bb9_row11_col12 {\n",
       "  font-size: 6pt;\n",
       "  background-color: #b6b6b6;\n",
       "  color: #000000;\n",
       "}\n",
       "#T_e2bb9_row11_col13 {\n",
       "  font-size: 6pt;\n",
       "  background-color: #252525;\n",
       "  color: #f1f1f1;\n",
       "}\n",
       "#T_e2bb9_row11_col16 {\n",
       "  font-size: 6pt;\n",
       "  background-color: #999999;\n",
       "  color: #f1f1f1;\n",
       "}\n",
       "#T_e2bb9_row12_col11, #T_e2bb9_row22_col12 {\n",
       "  font-size: 6pt;\n",
       "  background-color: #101010;\n",
       "  color: #f1f1f1;\n",
       "}\n",
       "#T_e2bb9_row12_col13, #T_e2bb9_row13_col13, #T_e2bb9_row21_col14, #T_e2bb9_row22_col13, #T_e2bb9_row23_col13 {\n",
       "  font-size: 6pt;\n",
       "  background-color: #020202;\n",
       "  color: #f1f1f1;\n",
       "}\n",
       "#T_e2bb9_row13_col9 {\n",
       "  font-size: 6pt;\n",
       "  background-color: #f7f7f7;\n",
       "  color: #000000;\n",
       "}\n",
       "#T_e2bb9_row13_col11, #T_e2bb9_row22_col15 {\n",
       "  font-size: 6pt;\n",
       "  background-color: #030303;\n",
       "  color: #f1f1f1;\n",
       "}\n",
       "#T_e2bb9_row13_col16 {\n",
       "  font-size: 6pt;\n",
       "  background-color: #181818;\n",
       "  color: #f1f1f1;\n",
       "}\n",
       "#T_e2bb9_row13_col17 {\n",
       "  font-size: 6pt;\n",
       "  background-color: #303030;\n",
       "  color: #f1f1f1;\n",
       "}\n",
       "#T_e2bb9_row13_col18 {\n",
       "  font-size: 6pt;\n",
       "  background-color: #a9a9a9;\n",
       "  color: #f1f1f1;\n",
       "}\n",
       "#T_e2bb9_row13_col19 {\n",
       "  font-size: 6pt;\n",
       "  background-color: #fefefe;\n",
       "  color: #000000;\n",
       "}\n",
       "#T_e2bb9_row14_col12, #T_e2bb9_row14_col13, #T_e2bb9_row20_col14 {\n",
       "  font-size: 6pt;\n",
       "  background-color: #bababa;\n",
       "  color: #000000;\n",
       "}\n",
       "#T_e2bb9_row14_col14 {\n",
       "  font-size: 6pt;\n",
       "  background-color: #393939;\n",
       "  color: #f1f1f1;\n",
       "}\n",
       "#T_e2bb9_row14_col20 {\n",
       "  font-size: 6pt;\n",
       "  background-color: #eaeaea;\n",
       "  color: #000000;\n",
       "}\n",
       "#T_e2bb9_row15_col15 {\n",
       "  font-size: 6pt;\n",
       "  background-color: #e2e2e2;\n",
       "  color: #000000;\n",
       "}\n",
       "#T_e2bb9_row15_col16 {\n",
       "  font-size: 6pt;\n",
       "  background-color: #9f9f9f;\n",
       "  color: #f1f1f1;\n",
       "}\n",
       "#T_e2bb9_row15_col20 {\n",
       "  font-size: 6pt;\n",
       "  background-color: #898989;\n",
       "  color: #f1f1f1;\n",
       "}\n",
       "#T_e2bb9_row16_col17 {\n",
       "  font-size: 6pt;\n",
       "  background-color: #585858;\n",
       "  color: #f1f1f1;\n",
       "}\n",
       "#T_e2bb9_row17_col17 {\n",
       "  font-size: 6pt;\n",
       "  background-color: #5a5a5a;\n",
       "  color: #f1f1f1;\n",
       "}\n",
       "#T_e2bb9_row17_col20 {\n",
       "  font-size: 6pt;\n",
       "  background-color: #525252;\n",
       "  color: #f1f1f1;\n",
       "}\n",
       "#T_e2bb9_row18_col16, #T_e2bb9_row23_col15 {\n",
       "  font-size: 6pt;\n",
       "  background-color: #c5c5c5;\n",
       "  color: #000000;\n",
       "}\n",
       "#T_e2bb9_row18_col20 {\n",
       "  font-size: 6pt;\n",
       "  background-color: #d7d7d7;\n",
       "  color: #000000;\n",
       "}\n",
       "#T_e2bb9_row19_col15, #T_e2bb9_row22_col9 {\n",
       "  font-size: 6pt;\n",
       "  background-color: #dcdcdc;\n",
       "  color: #000000;\n",
       "}\n",
       "#T_e2bb9_row19_col16 {\n",
       "  font-size: 6pt;\n",
       "  background-color: #2f2f2f;\n",
       "  color: #f1f1f1;\n",
       "}\n",
       "#T_e2bb9_row19_col19 {\n",
       "  font-size: 6pt;\n",
       "  background-color: #636363;\n",
       "  color: #f1f1f1;\n",
       "}\n",
       "#T_e2bb9_row20_col15 {\n",
       "  font-size: 6pt;\n",
       "  background-color: #070707;\n",
       "  color: #f1f1f1;\n",
       "}\n",
       "#T_e2bb9_row20_col18 {\n",
       "  font-size: 6pt;\n",
       "  background-color: #1f1f1f;\n",
       "  color: #f1f1f1;\n",
       "}\n",
       "#T_e2bb9_row21_col12, #T_e2bb9_row22_col6, #T_e2bb9_row22_col8 {\n",
       "  font-size: 6pt;\n",
       "  background-color: #e9e9e9;\n",
       "  color: #000000;\n",
       "}\n",
       "#T_e2bb9_row21_col13 {\n",
       "  font-size: 6pt;\n",
       "  background-color: #7d7d7d;\n",
       "  color: #f1f1f1;\n",
       "}\n",
       "#T_e2bb9_row21_col18 {\n",
       "  font-size: 6pt;\n",
       "  background-color: #e1e1e1;\n",
       "  color: #000000;\n",
       "}\n",
       "#T_e2bb9_row22_col7, #T_e2bb9_row22_col10 {\n",
       "  font-size: 6pt;\n",
       "  background-color: #a4a4a4;\n",
       "  color: #f1f1f1;\n",
       "}\n",
       "#T_e2bb9_row22_col11 {\n",
       "  font-size: 6pt;\n",
       "  background-color: #727272;\n",
       "  color: #f1f1f1;\n",
       "}\n",
       "#T_e2bb9_row22_col16 {\n",
       "  font-size: 6pt;\n",
       "  background-color: #616161;\n",
       "  color: #f1f1f1;\n",
       "}\n",
       "#T_e2bb9_row22_col17 {\n",
       "  font-size: 6pt;\n",
       "  background-color: #f3f3f3;\n",
       "  color: #000000;\n",
       "}\n",
       "#T_e2bb9_row23_col14 {\n",
       "  font-size: 6pt;\n",
       "  background-color: #484848;\n",
       "  color: #f1f1f1;\n",
       "}\n",
       "#T_e2bb9_row24_col6 {\n",
       "  font-size: 6pt;\n",
       "  background-color: #b3b3b3;\n",
       "  color: #000000;\n",
       "}\n",
       "#T_e2bb9_row24_col12 {\n",
       "  font-size: 6pt;\n",
       "  background-color: #1a1a1a;\n",
       "  color: #f1f1f1;\n",
       "}\n",
       "#T_e2bb9_row24_col13 {\n",
       "  font-size: 6pt;\n",
       "  background-color: #d6d6d6;\n",
       "  color: #000000;\n",
       "}\n",
       "</style>\n",
       "<table id=\"T_e2bb9\">\n",
       "  <thead>\n",
       "    <tr>\n",
       "      <th class=\"blank level0\" >&nbsp;</th>\n",
       "      <th id=\"T_e2bb9_level0_col0\" class=\"col_heading level0 col0\" >0</th>\n",
       "      <th id=\"T_e2bb9_level0_col1\" class=\"col_heading level0 col1\" >1</th>\n",
       "      <th id=\"T_e2bb9_level0_col2\" class=\"col_heading level0 col2\" >2</th>\n",
       "      <th id=\"T_e2bb9_level0_col3\" class=\"col_heading level0 col3\" >3</th>\n",
       "      <th id=\"T_e2bb9_level0_col4\" class=\"col_heading level0 col4\" >4</th>\n",
       "      <th id=\"T_e2bb9_level0_col5\" class=\"col_heading level0 col5\" >5</th>\n",
       "      <th id=\"T_e2bb9_level0_col6\" class=\"col_heading level0 col6\" >6</th>\n",
       "      <th id=\"T_e2bb9_level0_col7\" class=\"col_heading level0 col7\" >7</th>\n",
       "      <th id=\"T_e2bb9_level0_col8\" class=\"col_heading level0 col8\" >8</th>\n",
       "      <th id=\"T_e2bb9_level0_col9\" class=\"col_heading level0 col9\" >9</th>\n",
       "      <th id=\"T_e2bb9_level0_col10\" class=\"col_heading level0 col10\" >10</th>\n",
       "      <th id=\"T_e2bb9_level0_col11\" class=\"col_heading level0 col11\" >11</th>\n",
       "      <th id=\"T_e2bb9_level0_col12\" class=\"col_heading level0 col12\" >12</th>\n",
       "      <th id=\"T_e2bb9_level0_col13\" class=\"col_heading level0 col13\" >13</th>\n",
       "      <th id=\"T_e2bb9_level0_col14\" class=\"col_heading level0 col14\" >14</th>\n",
       "      <th id=\"T_e2bb9_level0_col15\" class=\"col_heading level0 col15\" >15</th>\n",
       "      <th id=\"T_e2bb9_level0_col16\" class=\"col_heading level0 col16\" >16</th>\n",
       "      <th id=\"T_e2bb9_level0_col17\" class=\"col_heading level0 col17\" >17</th>\n",
       "      <th id=\"T_e2bb9_level0_col18\" class=\"col_heading level0 col18\" >18</th>\n",
       "      <th id=\"T_e2bb9_level0_col19\" class=\"col_heading level0 col19\" >19</th>\n",
       "      <th id=\"T_e2bb9_level0_col20\" class=\"col_heading level0 col20\" >20</th>\n",
       "      <th id=\"T_e2bb9_level0_col21\" class=\"col_heading level0 col21\" >21</th>\n",
       "      <th id=\"T_e2bb9_level0_col22\" class=\"col_heading level0 col22\" >22</th>\n",
       "      <th id=\"T_e2bb9_level0_col23\" class=\"col_heading level0 col23\" >23</th>\n",
       "      <th id=\"T_e2bb9_level0_col24\" class=\"col_heading level0 col24\" >24</th>\n",
       "      <th id=\"T_e2bb9_level0_col25\" class=\"col_heading level0 col25\" >25</th>\n",
       "      <th id=\"T_e2bb9_level0_col26\" class=\"col_heading level0 col26\" >26</th>\n",
       "      <th id=\"T_e2bb9_level0_col27\" class=\"col_heading level0 col27\" >27</th>\n",
       "    </tr>\n",
       "  </thead>\n",
       "  <tbody>\n",
       "    <tr>\n",
       "      <th id=\"T_e2bb9_level0_row0\" class=\"row_heading level0 row0\" >0</th>\n",
       "      <td id=\"T_e2bb9_row0_col0\" class=\"data row0 col0\" >0</td>\n",
       "      <td id=\"T_e2bb9_row0_col1\" class=\"data row0 col1\" >0</td>\n",
       "      <td id=\"T_e2bb9_row0_col2\" class=\"data row0 col2\" >0</td>\n",
       "      <td id=\"T_e2bb9_row0_col3\" class=\"data row0 col3\" >0</td>\n",
       "      <td id=\"T_e2bb9_row0_col4\" class=\"data row0 col4\" >0</td>\n",
       "      <td id=\"T_e2bb9_row0_col5\" class=\"data row0 col5\" >0</td>\n",
       "      <td id=\"T_e2bb9_row0_col6\" class=\"data row0 col6\" >0</td>\n",
       "      <td id=\"T_e2bb9_row0_col7\" class=\"data row0 col7\" >0</td>\n",
       "      <td id=\"T_e2bb9_row0_col8\" class=\"data row0 col8\" >0</td>\n",
       "      <td id=\"T_e2bb9_row0_col9\" class=\"data row0 col9\" >0</td>\n",
       "      <td id=\"T_e2bb9_row0_col10\" class=\"data row0 col10\" >0</td>\n",
       "      <td id=\"T_e2bb9_row0_col11\" class=\"data row0 col11\" >0</td>\n",
       "      <td id=\"T_e2bb9_row0_col12\" class=\"data row0 col12\" >0</td>\n",
       "      <td id=\"T_e2bb9_row0_col13\" class=\"data row0 col13\" >0</td>\n",
       "      <td id=\"T_e2bb9_row0_col14\" class=\"data row0 col14\" >0</td>\n",
       "      <td id=\"T_e2bb9_row0_col15\" class=\"data row0 col15\" >0</td>\n",
       "      <td id=\"T_e2bb9_row0_col16\" class=\"data row0 col16\" >0</td>\n",
       "      <td id=\"T_e2bb9_row0_col17\" class=\"data row0 col17\" >0</td>\n",
       "      <td id=\"T_e2bb9_row0_col18\" class=\"data row0 col18\" >0</td>\n",
       "      <td id=\"T_e2bb9_row0_col19\" class=\"data row0 col19\" >0</td>\n",
       "      <td id=\"T_e2bb9_row0_col20\" class=\"data row0 col20\" >0</td>\n",
       "      <td id=\"T_e2bb9_row0_col21\" class=\"data row0 col21\" >0</td>\n",
       "      <td id=\"T_e2bb9_row0_col22\" class=\"data row0 col22\" >0</td>\n",
       "      <td id=\"T_e2bb9_row0_col23\" class=\"data row0 col23\" >0</td>\n",
       "      <td id=\"T_e2bb9_row0_col24\" class=\"data row0 col24\" >0</td>\n",
       "      <td id=\"T_e2bb9_row0_col25\" class=\"data row0 col25\" >0</td>\n",
       "      <td id=\"T_e2bb9_row0_col26\" class=\"data row0 col26\" >0</td>\n",
       "      <td id=\"T_e2bb9_row0_col27\" class=\"data row0 col27\" >0</td>\n",
       "    </tr>\n",
       "    <tr>\n",
       "      <th id=\"T_e2bb9_level0_row1\" class=\"row_heading level0 row1\" >1</th>\n",
       "      <td id=\"T_e2bb9_row1_col0\" class=\"data row1 col0\" >0</td>\n",
       "      <td id=\"T_e2bb9_row1_col1\" class=\"data row1 col1\" >0</td>\n",
       "      <td id=\"T_e2bb9_row1_col2\" class=\"data row1 col2\" >0</td>\n",
       "      <td id=\"T_e2bb9_row1_col3\" class=\"data row1 col3\" >0</td>\n",
       "      <td id=\"T_e2bb9_row1_col4\" class=\"data row1 col4\" >0</td>\n",
       "      <td id=\"T_e2bb9_row1_col5\" class=\"data row1 col5\" >0</td>\n",
       "      <td id=\"T_e2bb9_row1_col6\" class=\"data row1 col6\" >0</td>\n",
       "      <td id=\"T_e2bb9_row1_col7\" class=\"data row1 col7\" >0</td>\n",
       "      <td id=\"T_e2bb9_row1_col8\" class=\"data row1 col8\" >0</td>\n",
       "      <td id=\"T_e2bb9_row1_col9\" class=\"data row1 col9\" >0</td>\n",
       "      <td id=\"T_e2bb9_row1_col10\" class=\"data row1 col10\" >0</td>\n",
       "      <td id=\"T_e2bb9_row1_col11\" class=\"data row1 col11\" >0</td>\n",
       "      <td id=\"T_e2bb9_row1_col12\" class=\"data row1 col12\" >0</td>\n",
       "      <td id=\"T_e2bb9_row1_col13\" class=\"data row1 col13\" >0</td>\n",
       "      <td id=\"T_e2bb9_row1_col14\" class=\"data row1 col14\" >0</td>\n",
       "      <td id=\"T_e2bb9_row1_col15\" class=\"data row1 col15\" >0</td>\n",
       "      <td id=\"T_e2bb9_row1_col16\" class=\"data row1 col16\" >0</td>\n",
       "      <td id=\"T_e2bb9_row1_col17\" class=\"data row1 col17\" >0</td>\n",
       "      <td id=\"T_e2bb9_row1_col18\" class=\"data row1 col18\" >0</td>\n",
       "      <td id=\"T_e2bb9_row1_col19\" class=\"data row1 col19\" >0</td>\n",
       "      <td id=\"T_e2bb9_row1_col20\" class=\"data row1 col20\" >0</td>\n",
       "      <td id=\"T_e2bb9_row1_col21\" class=\"data row1 col21\" >0</td>\n",
       "      <td id=\"T_e2bb9_row1_col22\" class=\"data row1 col22\" >0</td>\n",
       "      <td id=\"T_e2bb9_row1_col23\" class=\"data row1 col23\" >0</td>\n",
       "      <td id=\"T_e2bb9_row1_col24\" class=\"data row1 col24\" >0</td>\n",
       "      <td id=\"T_e2bb9_row1_col25\" class=\"data row1 col25\" >0</td>\n",
       "      <td id=\"T_e2bb9_row1_col26\" class=\"data row1 col26\" >0</td>\n",
       "      <td id=\"T_e2bb9_row1_col27\" class=\"data row1 col27\" >0</td>\n",
       "    </tr>\n",
       "    <tr>\n",
       "      <th id=\"T_e2bb9_level0_row2\" class=\"row_heading level0 row2\" >2</th>\n",
       "      <td id=\"T_e2bb9_row2_col0\" class=\"data row2 col0\" >0</td>\n",
       "      <td id=\"T_e2bb9_row2_col1\" class=\"data row2 col1\" >0</td>\n",
       "      <td id=\"T_e2bb9_row2_col2\" class=\"data row2 col2\" >0</td>\n",
       "      <td id=\"T_e2bb9_row2_col3\" class=\"data row2 col3\" >0</td>\n",
       "      <td id=\"T_e2bb9_row2_col4\" class=\"data row2 col4\" >0</td>\n",
       "      <td id=\"T_e2bb9_row2_col5\" class=\"data row2 col5\" >0</td>\n",
       "      <td id=\"T_e2bb9_row2_col6\" class=\"data row2 col6\" >0</td>\n",
       "      <td id=\"T_e2bb9_row2_col7\" class=\"data row2 col7\" >0</td>\n",
       "      <td id=\"T_e2bb9_row2_col8\" class=\"data row2 col8\" >0</td>\n",
       "      <td id=\"T_e2bb9_row2_col9\" class=\"data row2 col9\" >0</td>\n",
       "      <td id=\"T_e2bb9_row2_col10\" class=\"data row2 col10\" >0</td>\n",
       "      <td id=\"T_e2bb9_row2_col11\" class=\"data row2 col11\" >0</td>\n",
       "      <td id=\"T_e2bb9_row2_col12\" class=\"data row2 col12\" >0</td>\n",
       "      <td id=\"T_e2bb9_row2_col13\" class=\"data row2 col13\" >0</td>\n",
       "      <td id=\"T_e2bb9_row2_col14\" class=\"data row2 col14\" >0</td>\n",
       "      <td id=\"T_e2bb9_row2_col15\" class=\"data row2 col15\" >0</td>\n",
       "      <td id=\"T_e2bb9_row2_col16\" class=\"data row2 col16\" >0</td>\n",
       "      <td id=\"T_e2bb9_row2_col17\" class=\"data row2 col17\" >0</td>\n",
       "      <td id=\"T_e2bb9_row2_col18\" class=\"data row2 col18\" >0</td>\n",
       "      <td id=\"T_e2bb9_row2_col19\" class=\"data row2 col19\" >0</td>\n",
       "      <td id=\"T_e2bb9_row2_col20\" class=\"data row2 col20\" >0</td>\n",
       "      <td id=\"T_e2bb9_row2_col21\" class=\"data row2 col21\" >0</td>\n",
       "      <td id=\"T_e2bb9_row2_col22\" class=\"data row2 col22\" >0</td>\n",
       "      <td id=\"T_e2bb9_row2_col23\" class=\"data row2 col23\" >0</td>\n",
       "      <td id=\"T_e2bb9_row2_col24\" class=\"data row2 col24\" >0</td>\n",
       "      <td id=\"T_e2bb9_row2_col25\" class=\"data row2 col25\" >0</td>\n",
       "      <td id=\"T_e2bb9_row2_col26\" class=\"data row2 col26\" >0</td>\n",
       "      <td id=\"T_e2bb9_row2_col27\" class=\"data row2 col27\" >0</td>\n",
       "    </tr>\n",
       "    <tr>\n",
       "      <th id=\"T_e2bb9_level0_row3\" class=\"row_heading level0 row3\" >3</th>\n",
       "      <td id=\"T_e2bb9_row3_col0\" class=\"data row3 col0\" >0</td>\n",
       "      <td id=\"T_e2bb9_row3_col1\" class=\"data row3 col1\" >0</td>\n",
       "      <td id=\"T_e2bb9_row3_col2\" class=\"data row3 col2\" >0</td>\n",
       "      <td id=\"T_e2bb9_row3_col3\" class=\"data row3 col3\" >0</td>\n",
       "      <td id=\"T_e2bb9_row3_col4\" class=\"data row3 col4\" >0</td>\n",
       "      <td id=\"T_e2bb9_row3_col5\" class=\"data row3 col5\" >0</td>\n",
       "      <td id=\"T_e2bb9_row3_col6\" class=\"data row3 col6\" >0</td>\n",
       "      <td id=\"T_e2bb9_row3_col7\" class=\"data row3 col7\" >0</td>\n",
       "      <td id=\"T_e2bb9_row3_col8\" class=\"data row3 col8\" >0</td>\n",
       "      <td id=\"T_e2bb9_row3_col9\" class=\"data row3 col9\" >0</td>\n",
       "      <td id=\"T_e2bb9_row3_col10\" class=\"data row3 col10\" >0</td>\n",
       "      <td id=\"T_e2bb9_row3_col11\" class=\"data row3 col11\" >0</td>\n",
       "      <td id=\"T_e2bb9_row3_col12\" class=\"data row3 col12\" >0</td>\n",
       "      <td id=\"T_e2bb9_row3_col13\" class=\"data row3 col13\" >0</td>\n",
       "      <td id=\"T_e2bb9_row3_col14\" class=\"data row3 col14\" >0</td>\n",
       "      <td id=\"T_e2bb9_row3_col15\" class=\"data row3 col15\" >0</td>\n",
       "      <td id=\"T_e2bb9_row3_col16\" class=\"data row3 col16\" >0</td>\n",
       "      <td id=\"T_e2bb9_row3_col17\" class=\"data row3 col17\" >0</td>\n",
       "      <td id=\"T_e2bb9_row3_col18\" class=\"data row3 col18\" >0</td>\n",
       "      <td id=\"T_e2bb9_row3_col19\" class=\"data row3 col19\" >0</td>\n",
       "      <td id=\"T_e2bb9_row3_col20\" class=\"data row3 col20\" >0</td>\n",
       "      <td id=\"T_e2bb9_row3_col21\" class=\"data row3 col21\" >0</td>\n",
       "      <td id=\"T_e2bb9_row3_col22\" class=\"data row3 col22\" >0</td>\n",
       "      <td id=\"T_e2bb9_row3_col23\" class=\"data row3 col23\" >0</td>\n",
       "      <td id=\"T_e2bb9_row3_col24\" class=\"data row3 col24\" >0</td>\n",
       "      <td id=\"T_e2bb9_row3_col25\" class=\"data row3 col25\" >0</td>\n",
       "      <td id=\"T_e2bb9_row3_col26\" class=\"data row3 col26\" >0</td>\n",
       "      <td id=\"T_e2bb9_row3_col27\" class=\"data row3 col27\" >0</td>\n",
       "    </tr>\n",
       "    <tr>\n",
       "      <th id=\"T_e2bb9_level0_row4\" class=\"row_heading level0 row4\" >4</th>\n",
       "      <td id=\"T_e2bb9_row4_col0\" class=\"data row4 col0\" >0</td>\n",
       "      <td id=\"T_e2bb9_row4_col1\" class=\"data row4 col1\" >0</td>\n",
       "      <td id=\"T_e2bb9_row4_col2\" class=\"data row4 col2\" >0</td>\n",
       "      <td id=\"T_e2bb9_row4_col3\" class=\"data row4 col3\" >0</td>\n",
       "      <td id=\"T_e2bb9_row4_col4\" class=\"data row4 col4\" >0</td>\n",
       "      <td id=\"T_e2bb9_row4_col5\" class=\"data row4 col5\" >0</td>\n",
       "      <td id=\"T_e2bb9_row4_col6\" class=\"data row4 col6\" >0</td>\n",
       "      <td id=\"T_e2bb9_row4_col7\" class=\"data row4 col7\" >0</td>\n",
       "      <td id=\"T_e2bb9_row4_col8\" class=\"data row4 col8\" >0</td>\n",
       "      <td id=\"T_e2bb9_row4_col9\" class=\"data row4 col9\" >0</td>\n",
       "      <td id=\"T_e2bb9_row4_col10\" class=\"data row4 col10\" >0</td>\n",
       "      <td id=\"T_e2bb9_row4_col11\" class=\"data row4 col11\" >0</td>\n",
       "      <td id=\"T_e2bb9_row4_col12\" class=\"data row4 col12\" >0</td>\n",
       "      <td id=\"T_e2bb9_row4_col13\" class=\"data row4 col13\" >0</td>\n",
       "      <td id=\"T_e2bb9_row4_col14\" class=\"data row4 col14\" >0</td>\n",
       "      <td id=\"T_e2bb9_row4_col15\" class=\"data row4 col15\" >0</td>\n",
       "      <td id=\"T_e2bb9_row4_col16\" class=\"data row4 col16\" >0</td>\n",
       "      <td id=\"T_e2bb9_row4_col17\" class=\"data row4 col17\" >0</td>\n",
       "      <td id=\"T_e2bb9_row4_col18\" class=\"data row4 col18\" >0</td>\n",
       "      <td id=\"T_e2bb9_row4_col19\" class=\"data row4 col19\" >0</td>\n",
       "      <td id=\"T_e2bb9_row4_col20\" class=\"data row4 col20\" >0</td>\n",
       "      <td id=\"T_e2bb9_row4_col21\" class=\"data row4 col21\" >0</td>\n",
       "      <td id=\"T_e2bb9_row4_col22\" class=\"data row4 col22\" >0</td>\n",
       "      <td id=\"T_e2bb9_row4_col23\" class=\"data row4 col23\" >0</td>\n",
       "      <td id=\"T_e2bb9_row4_col24\" class=\"data row4 col24\" >0</td>\n",
       "      <td id=\"T_e2bb9_row4_col25\" class=\"data row4 col25\" >0</td>\n",
       "      <td id=\"T_e2bb9_row4_col26\" class=\"data row4 col26\" >0</td>\n",
       "      <td id=\"T_e2bb9_row4_col27\" class=\"data row4 col27\" >0</td>\n",
       "    </tr>\n",
       "    <tr>\n",
       "      <th id=\"T_e2bb9_level0_row5\" class=\"row_heading level0 row5\" >5</th>\n",
       "      <td id=\"T_e2bb9_row5_col0\" class=\"data row5 col0\" >0</td>\n",
       "      <td id=\"T_e2bb9_row5_col1\" class=\"data row5 col1\" >0</td>\n",
       "      <td id=\"T_e2bb9_row5_col2\" class=\"data row5 col2\" >0</td>\n",
       "      <td id=\"T_e2bb9_row5_col3\" class=\"data row5 col3\" >0</td>\n",
       "      <td id=\"T_e2bb9_row5_col4\" class=\"data row5 col4\" >0</td>\n",
       "      <td id=\"T_e2bb9_row5_col5\" class=\"data row5 col5\" >0</td>\n",
       "      <td id=\"T_e2bb9_row5_col6\" class=\"data row5 col6\" >0</td>\n",
       "      <td id=\"T_e2bb9_row5_col7\" class=\"data row5 col7\" >0</td>\n",
       "      <td id=\"T_e2bb9_row5_col8\" class=\"data row5 col8\" >0</td>\n",
       "      <td id=\"T_e2bb9_row5_col9\" class=\"data row5 col9\" >29</td>\n",
       "      <td id=\"T_e2bb9_row5_col10\" class=\"data row5 col10\" >150</td>\n",
       "      <td id=\"T_e2bb9_row5_col11\" class=\"data row5 col11\" >195</td>\n",
       "      <td id=\"T_e2bb9_row5_col12\" class=\"data row5 col12\" >254</td>\n",
       "      <td id=\"T_e2bb9_row5_col13\" class=\"data row5 col13\" >255</td>\n",
       "      <td id=\"T_e2bb9_row5_col14\" class=\"data row5 col14\" >254</td>\n",
       "      <td id=\"T_e2bb9_row5_col15\" class=\"data row5 col15\" >176</td>\n",
       "      <td id=\"T_e2bb9_row5_col16\" class=\"data row5 col16\" >193</td>\n",
       "      <td id=\"T_e2bb9_row5_col17\" class=\"data row5 col17\" >150</td>\n",
       "      <td id=\"T_e2bb9_row5_col18\" class=\"data row5 col18\" >96</td>\n",
       "      <td id=\"T_e2bb9_row5_col19\" class=\"data row5 col19\" >0</td>\n",
       "      <td id=\"T_e2bb9_row5_col20\" class=\"data row5 col20\" >0</td>\n",
       "      <td id=\"T_e2bb9_row5_col21\" class=\"data row5 col21\" >0</td>\n",
       "      <td id=\"T_e2bb9_row5_col22\" class=\"data row5 col22\" >0</td>\n",
       "      <td id=\"T_e2bb9_row5_col23\" class=\"data row5 col23\" >0</td>\n",
       "      <td id=\"T_e2bb9_row5_col24\" class=\"data row5 col24\" >0</td>\n",
       "      <td id=\"T_e2bb9_row5_col25\" class=\"data row5 col25\" >0</td>\n",
       "      <td id=\"T_e2bb9_row5_col26\" class=\"data row5 col26\" >0</td>\n",
       "      <td id=\"T_e2bb9_row5_col27\" class=\"data row5 col27\" >0</td>\n",
       "    </tr>\n",
       "    <tr>\n",
       "      <th id=\"T_e2bb9_level0_row6\" class=\"row_heading level0 row6\" >6</th>\n",
       "      <td id=\"T_e2bb9_row6_col0\" class=\"data row6 col0\" >0</td>\n",
       "      <td id=\"T_e2bb9_row6_col1\" class=\"data row6 col1\" >0</td>\n",
       "      <td id=\"T_e2bb9_row6_col2\" class=\"data row6 col2\" >0</td>\n",
       "      <td id=\"T_e2bb9_row6_col3\" class=\"data row6 col3\" >0</td>\n",
       "      <td id=\"T_e2bb9_row6_col4\" class=\"data row6 col4\" >0</td>\n",
       "      <td id=\"T_e2bb9_row6_col5\" class=\"data row6 col5\" >0</td>\n",
       "      <td id=\"T_e2bb9_row6_col6\" class=\"data row6 col6\" >0</td>\n",
       "      <td id=\"T_e2bb9_row6_col7\" class=\"data row6 col7\" >48</td>\n",
       "      <td id=\"T_e2bb9_row6_col8\" class=\"data row6 col8\" >166</td>\n",
       "      <td id=\"T_e2bb9_row6_col9\" class=\"data row6 col9\" >224</td>\n",
       "      <td id=\"T_e2bb9_row6_col10\" class=\"data row6 col10\" >253</td>\n",
       "      <td id=\"T_e2bb9_row6_col11\" class=\"data row6 col11\" >253</td>\n",
       "      <td id=\"T_e2bb9_row6_col12\" class=\"data row6 col12\" >234</td>\n",
       "      <td id=\"T_e2bb9_row6_col13\" class=\"data row6 col13\" >196</td>\n",
       "      <td id=\"T_e2bb9_row6_col14\" class=\"data row6 col14\" >253</td>\n",
       "      <td id=\"T_e2bb9_row6_col15\" class=\"data row6 col15\" >253</td>\n",
       "      <td id=\"T_e2bb9_row6_col16\" class=\"data row6 col16\" >253</td>\n",
       "      <td id=\"T_e2bb9_row6_col17\" class=\"data row6 col17\" >253</td>\n",
       "      <td id=\"T_e2bb9_row6_col18\" class=\"data row6 col18\" >233</td>\n",
       "      <td id=\"T_e2bb9_row6_col19\" class=\"data row6 col19\" >0</td>\n",
       "      <td id=\"T_e2bb9_row6_col20\" class=\"data row6 col20\" >0</td>\n",
       "      <td id=\"T_e2bb9_row6_col21\" class=\"data row6 col21\" >0</td>\n",
       "      <td id=\"T_e2bb9_row6_col22\" class=\"data row6 col22\" >0</td>\n",
       "      <td id=\"T_e2bb9_row6_col23\" class=\"data row6 col23\" >0</td>\n",
       "      <td id=\"T_e2bb9_row6_col24\" class=\"data row6 col24\" >0</td>\n",
       "      <td id=\"T_e2bb9_row6_col25\" class=\"data row6 col25\" >0</td>\n",
       "      <td id=\"T_e2bb9_row6_col26\" class=\"data row6 col26\" >0</td>\n",
       "      <td id=\"T_e2bb9_row6_col27\" class=\"data row6 col27\" >0</td>\n",
       "    </tr>\n",
       "    <tr>\n",
       "      <th id=\"T_e2bb9_level0_row7\" class=\"row_heading level0 row7\" >7</th>\n",
       "      <td id=\"T_e2bb9_row7_col0\" class=\"data row7 col0\" >0</td>\n",
       "      <td id=\"T_e2bb9_row7_col1\" class=\"data row7 col1\" >0</td>\n",
       "      <td id=\"T_e2bb9_row7_col2\" class=\"data row7 col2\" >0</td>\n",
       "      <td id=\"T_e2bb9_row7_col3\" class=\"data row7 col3\" >0</td>\n",
       "      <td id=\"T_e2bb9_row7_col4\" class=\"data row7 col4\" >0</td>\n",
       "      <td id=\"T_e2bb9_row7_col5\" class=\"data row7 col5\" >93</td>\n",
       "      <td id=\"T_e2bb9_row7_col6\" class=\"data row7 col6\" >244</td>\n",
       "      <td id=\"T_e2bb9_row7_col7\" class=\"data row7 col7\" >249</td>\n",
       "      <td id=\"T_e2bb9_row7_col8\" class=\"data row7 col8\" >253</td>\n",
       "      <td id=\"T_e2bb9_row7_col9\" class=\"data row7 col9\" >187</td>\n",
       "      <td id=\"T_e2bb9_row7_col10\" class=\"data row7 col10\" >46</td>\n",
       "      <td id=\"T_e2bb9_row7_col11\" class=\"data row7 col11\" >10</td>\n",
       "      <td id=\"T_e2bb9_row7_col12\" class=\"data row7 col12\" >8</td>\n",
       "      <td id=\"T_e2bb9_row7_col13\" class=\"data row7 col13\" >4</td>\n",
       "      <td id=\"T_e2bb9_row7_col14\" class=\"data row7 col14\" >10</td>\n",
       "      <td id=\"T_e2bb9_row7_col15\" class=\"data row7 col15\" >194</td>\n",
       "      <td id=\"T_e2bb9_row7_col16\" class=\"data row7 col16\" >253</td>\n",
       "      <td id=\"T_e2bb9_row7_col17\" class=\"data row7 col17\" >253</td>\n",
       "      <td id=\"T_e2bb9_row7_col18\" class=\"data row7 col18\" >233</td>\n",
       "      <td id=\"T_e2bb9_row7_col19\" class=\"data row7 col19\" >0</td>\n",
       "      <td id=\"T_e2bb9_row7_col20\" class=\"data row7 col20\" >0</td>\n",
       "      <td id=\"T_e2bb9_row7_col21\" class=\"data row7 col21\" >0</td>\n",
       "      <td id=\"T_e2bb9_row7_col22\" class=\"data row7 col22\" >0</td>\n",
       "      <td id=\"T_e2bb9_row7_col23\" class=\"data row7 col23\" >0</td>\n",
       "      <td id=\"T_e2bb9_row7_col24\" class=\"data row7 col24\" >0</td>\n",
       "      <td id=\"T_e2bb9_row7_col25\" class=\"data row7 col25\" >0</td>\n",
       "      <td id=\"T_e2bb9_row7_col26\" class=\"data row7 col26\" >0</td>\n",
       "      <td id=\"T_e2bb9_row7_col27\" class=\"data row7 col27\" >0</td>\n",
       "    </tr>\n",
       "    <tr>\n",
       "      <th id=\"T_e2bb9_level0_row8\" class=\"row_heading level0 row8\" >8</th>\n",
       "      <td id=\"T_e2bb9_row8_col0\" class=\"data row8 col0\" >0</td>\n",
       "      <td id=\"T_e2bb9_row8_col1\" class=\"data row8 col1\" >0</td>\n",
       "      <td id=\"T_e2bb9_row8_col2\" class=\"data row8 col2\" >0</td>\n",
       "      <td id=\"T_e2bb9_row8_col3\" class=\"data row8 col3\" >0</td>\n",
       "      <td id=\"T_e2bb9_row8_col4\" class=\"data row8 col4\" >0</td>\n",
       "      <td id=\"T_e2bb9_row8_col5\" class=\"data row8 col5\" >107</td>\n",
       "      <td id=\"T_e2bb9_row8_col6\" class=\"data row8 col6\" >253</td>\n",
       "      <td id=\"T_e2bb9_row8_col7\" class=\"data row8 col7\" >253</td>\n",
       "      <td id=\"T_e2bb9_row8_col8\" class=\"data row8 col8\" >230</td>\n",
       "      <td id=\"T_e2bb9_row8_col9\" class=\"data row8 col9\" >48</td>\n",
       "      <td id=\"T_e2bb9_row8_col10\" class=\"data row8 col10\" >0</td>\n",
       "      <td id=\"T_e2bb9_row8_col11\" class=\"data row8 col11\" >0</td>\n",
       "      <td id=\"T_e2bb9_row8_col12\" class=\"data row8 col12\" >0</td>\n",
       "      <td id=\"T_e2bb9_row8_col13\" class=\"data row8 col13\" >0</td>\n",
       "      <td id=\"T_e2bb9_row8_col14\" class=\"data row8 col14\" >0</td>\n",
       "      <td id=\"T_e2bb9_row8_col15\" class=\"data row8 col15\" >192</td>\n",
       "      <td id=\"T_e2bb9_row8_col16\" class=\"data row8 col16\" >253</td>\n",
       "      <td id=\"T_e2bb9_row8_col17\" class=\"data row8 col17\" >253</td>\n",
       "      <td id=\"T_e2bb9_row8_col18\" class=\"data row8 col18\" >156</td>\n",
       "      <td id=\"T_e2bb9_row8_col19\" class=\"data row8 col19\" >0</td>\n",
       "      <td id=\"T_e2bb9_row8_col20\" class=\"data row8 col20\" >0</td>\n",
       "      <td id=\"T_e2bb9_row8_col21\" class=\"data row8 col21\" >0</td>\n",
       "      <td id=\"T_e2bb9_row8_col22\" class=\"data row8 col22\" >0</td>\n",
       "      <td id=\"T_e2bb9_row8_col23\" class=\"data row8 col23\" >0</td>\n",
       "      <td id=\"T_e2bb9_row8_col24\" class=\"data row8 col24\" >0</td>\n",
       "      <td id=\"T_e2bb9_row8_col25\" class=\"data row8 col25\" >0</td>\n",
       "      <td id=\"T_e2bb9_row8_col26\" class=\"data row8 col26\" >0</td>\n",
       "      <td id=\"T_e2bb9_row8_col27\" class=\"data row8 col27\" >0</td>\n",
       "    </tr>\n",
       "    <tr>\n",
       "      <th id=\"T_e2bb9_level0_row9\" class=\"row_heading level0 row9\" >9</th>\n",
       "      <td id=\"T_e2bb9_row9_col0\" class=\"data row9 col0\" >0</td>\n",
       "      <td id=\"T_e2bb9_row9_col1\" class=\"data row9 col1\" >0</td>\n",
       "      <td id=\"T_e2bb9_row9_col2\" class=\"data row9 col2\" >0</td>\n",
       "      <td id=\"T_e2bb9_row9_col3\" class=\"data row9 col3\" >0</td>\n",
       "      <td id=\"T_e2bb9_row9_col4\" class=\"data row9 col4\" >0</td>\n",
       "      <td id=\"T_e2bb9_row9_col5\" class=\"data row9 col5\" >3</td>\n",
       "      <td id=\"T_e2bb9_row9_col6\" class=\"data row9 col6\" >20</td>\n",
       "      <td id=\"T_e2bb9_row9_col7\" class=\"data row9 col7\" >20</td>\n",
       "      <td id=\"T_e2bb9_row9_col8\" class=\"data row9 col8\" >15</td>\n",
       "      <td id=\"T_e2bb9_row9_col9\" class=\"data row9 col9\" >0</td>\n",
       "      <td id=\"T_e2bb9_row9_col10\" class=\"data row9 col10\" >0</td>\n",
       "      <td id=\"T_e2bb9_row9_col11\" class=\"data row9 col11\" >0</td>\n",
       "      <td id=\"T_e2bb9_row9_col12\" class=\"data row9 col12\" >0</td>\n",
       "      <td id=\"T_e2bb9_row9_col13\" class=\"data row9 col13\" >0</td>\n",
       "      <td id=\"T_e2bb9_row9_col14\" class=\"data row9 col14\" >43</td>\n",
       "      <td id=\"T_e2bb9_row9_col15\" class=\"data row9 col15\" >224</td>\n",
       "      <td id=\"T_e2bb9_row9_col16\" class=\"data row9 col16\" >253</td>\n",
       "      <td id=\"T_e2bb9_row9_col17\" class=\"data row9 col17\" >245</td>\n",
       "      <td id=\"T_e2bb9_row9_col18\" class=\"data row9 col18\" >74</td>\n",
       "      <td id=\"T_e2bb9_row9_col19\" class=\"data row9 col19\" >0</td>\n",
       "      <td id=\"T_e2bb9_row9_col20\" class=\"data row9 col20\" >0</td>\n",
       "      <td id=\"T_e2bb9_row9_col21\" class=\"data row9 col21\" >0</td>\n",
       "      <td id=\"T_e2bb9_row9_col22\" class=\"data row9 col22\" >0</td>\n",
       "      <td id=\"T_e2bb9_row9_col23\" class=\"data row9 col23\" >0</td>\n",
       "      <td id=\"T_e2bb9_row9_col24\" class=\"data row9 col24\" >0</td>\n",
       "      <td id=\"T_e2bb9_row9_col25\" class=\"data row9 col25\" >0</td>\n",
       "      <td id=\"T_e2bb9_row9_col26\" class=\"data row9 col26\" >0</td>\n",
       "      <td id=\"T_e2bb9_row9_col27\" class=\"data row9 col27\" >0</td>\n",
       "    </tr>\n",
       "    <tr>\n",
       "      <th id=\"T_e2bb9_level0_row10\" class=\"row_heading level0 row10\" >10</th>\n",
       "      <td id=\"T_e2bb9_row10_col0\" class=\"data row10 col0\" >0</td>\n",
       "      <td id=\"T_e2bb9_row10_col1\" class=\"data row10 col1\" >0</td>\n",
       "      <td id=\"T_e2bb9_row10_col2\" class=\"data row10 col2\" >0</td>\n",
       "      <td id=\"T_e2bb9_row10_col3\" class=\"data row10 col3\" >0</td>\n",
       "      <td id=\"T_e2bb9_row10_col4\" class=\"data row10 col4\" >0</td>\n",
       "      <td id=\"T_e2bb9_row10_col5\" class=\"data row10 col5\" >0</td>\n",
       "      <td id=\"T_e2bb9_row10_col6\" class=\"data row10 col6\" >0</td>\n",
       "      <td id=\"T_e2bb9_row10_col7\" class=\"data row10 col7\" >0</td>\n",
       "      <td id=\"T_e2bb9_row10_col8\" class=\"data row10 col8\" >0</td>\n",
       "      <td id=\"T_e2bb9_row10_col9\" class=\"data row10 col9\" >0</td>\n",
       "      <td id=\"T_e2bb9_row10_col10\" class=\"data row10 col10\" >0</td>\n",
       "      <td id=\"T_e2bb9_row10_col11\" class=\"data row10 col11\" >0</td>\n",
       "      <td id=\"T_e2bb9_row10_col12\" class=\"data row10 col12\" >0</td>\n",
       "      <td id=\"T_e2bb9_row10_col13\" class=\"data row10 col13\" >0</td>\n",
       "      <td id=\"T_e2bb9_row10_col14\" class=\"data row10 col14\" >249</td>\n",
       "      <td id=\"T_e2bb9_row10_col15\" class=\"data row10 col15\" >253</td>\n",
       "      <td id=\"T_e2bb9_row10_col16\" class=\"data row10 col16\" >245</td>\n",
       "      <td id=\"T_e2bb9_row10_col17\" class=\"data row10 col17\" >126</td>\n",
       "      <td id=\"T_e2bb9_row10_col18\" class=\"data row10 col18\" >0</td>\n",
       "      <td id=\"T_e2bb9_row10_col19\" class=\"data row10 col19\" >0</td>\n",
       "      <td id=\"T_e2bb9_row10_col20\" class=\"data row10 col20\" >0</td>\n",
       "      <td id=\"T_e2bb9_row10_col21\" class=\"data row10 col21\" >0</td>\n",
       "      <td id=\"T_e2bb9_row10_col22\" class=\"data row10 col22\" >0</td>\n",
       "      <td id=\"T_e2bb9_row10_col23\" class=\"data row10 col23\" >0</td>\n",
       "      <td id=\"T_e2bb9_row10_col24\" class=\"data row10 col24\" >0</td>\n",
       "      <td id=\"T_e2bb9_row10_col25\" class=\"data row10 col25\" >0</td>\n",
       "      <td id=\"T_e2bb9_row10_col26\" class=\"data row10 col26\" >0</td>\n",
       "      <td id=\"T_e2bb9_row10_col27\" class=\"data row10 col27\" >0</td>\n",
       "    </tr>\n",
       "    <tr>\n",
       "      <th id=\"T_e2bb9_level0_row11\" class=\"row_heading level0 row11\" >11</th>\n",
       "      <td id=\"T_e2bb9_row11_col0\" class=\"data row11 col0\" >0</td>\n",
       "      <td id=\"T_e2bb9_row11_col1\" class=\"data row11 col1\" >0</td>\n",
       "      <td id=\"T_e2bb9_row11_col2\" class=\"data row11 col2\" >0</td>\n",
       "      <td id=\"T_e2bb9_row11_col3\" class=\"data row11 col3\" >0</td>\n",
       "      <td id=\"T_e2bb9_row11_col4\" class=\"data row11 col4\" >0</td>\n",
       "      <td id=\"T_e2bb9_row11_col5\" class=\"data row11 col5\" >0</td>\n",
       "      <td id=\"T_e2bb9_row11_col6\" class=\"data row11 col6\" >0</td>\n",
       "      <td id=\"T_e2bb9_row11_col7\" class=\"data row11 col7\" >0</td>\n",
       "      <td id=\"T_e2bb9_row11_col8\" class=\"data row11 col8\" >0</td>\n",
       "      <td id=\"T_e2bb9_row11_col9\" class=\"data row11 col9\" >0</td>\n",
       "      <td id=\"T_e2bb9_row11_col10\" class=\"data row11 col10\" >0</td>\n",
       "      <td id=\"T_e2bb9_row11_col11\" class=\"data row11 col11\" >14</td>\n",
       "      <td id=\"T_e2bb9_row11_col12\" class=\"data row11 col12\" >101</td>\n",
       "      <td id=\"T_e2bb9_row11_col13\" class=\"data row11 col13\" >223</td>\n",
       "      <td id=\"T_e2bb9_row11_col14\" class=\"data row11 col14\" >253</td>\n",
       "      <td id=\"T_e2bb9_row11_col15\" class=\"data row11 col15\" >248</td>\n",
       "      <td id=\"T_e2bb9_row11_col16\" class=\"data row11 col16\" >124</td>\n",
       "      <td id=\"T_e2bb9_row11_col17\" class=\"data row11 col17\" >0</td>\n",
       "      <td id=\"T_e2bb9_row11_col18\" class=\"data row11 col18\" >0</td>\n",
       "      <td id=\"T_e2bb9_row11_col19\" class=\"data row11 col19\" >0</td>\n",
       "      <td id=\"T_e2bb9_row11_col20\" class=\"data row11 col20\" >0</td>\n",
       "      <td id=\"T_e2bb9_row11_col21\" class=\"data row11 col21\" >0</td>\n",
       "      <td id=\"T_e2bb9_row11_col22\" class=\"data row11 col22\" >0</td>\n",
       "      <td id=\"T_e2bb9_row11_col23\" class=\"data row11 col23\" >0</td>\n",
       "      <td id=\"T_e2bb9_row11_col24\" class=\"data row11 col24\" >0</td>\n",
       "      <td id=\"T_e2bb9_row11_col25\" class=\"data row11 col25\" >0</td>\n",
       "      <td id=\"T_e2bb9_row11_col26\" class=\"data row11 col26\" >0</td>\n",
       "      <td id=\"T_e2bb9_row11_col27\" class=\"data row11 col27\" >0</td>\n",
       "    </tr>\n",
       "    <tr>\n",
       "      <th id=\"T_e2bb9_level0_row12\" class=\"row_heading level0 row12\" >12</th>\n",
       "      <td id=\"T_e2bb9_row12_col0\" class=\"data row12 col0\" >0</td>\n",
       "      <td id=\"T_e2bb9_row12_col1\" class=\"data row12 col1\" >0</td>\n",
       "      <td id=\"T_e2bb9_row12_col2\" class=\"data row12 col2\" >0</td>\n",
       "      <td id=\"T_e2bb9_row12_col3\" class=\"data row12 col3\" >0</td>\n",
       "      <td id=\"T_e2bb9_row12_col4\" class=\"data row12 col4\" >0</td>\n",
       "      <td id=\"T_e2bb9_row12_col5\" class=\"data row12 col5\" >0</td>\n",
       "      <td id=\"T_e2bb9_row12_col6\" class=\"data row12 col6\" >0</td>\n",
       "      <td id=\"T_e2bb9_row12_col7\" class=\"data row12 col7\" >0</td>\n",
       "      <td id=\"T_e2bb9_row12_col8\" class=\"data row12 col8\" >0</td>\n",
       "      <td id=\"T_e2bb9_row12_col9\" class=\"data row12 col9\" >11</td>\n",
       "      <td id=\"T_e2bb9_row12_col10\" class=\"data row12 col10\" >166</td>\n",
       "      <td id=\"T_e2bb9_row12_col11\" class=\"data row12 col11\" >239</td>\n",
       "      <td id=\"T_e2bb9_row12_col12\" class=\"data row12 col12\" >253</td>\n",
       "      <td id=\"T_e2bb9_row12_col13\" class=\"data row12 col13\" >253</td>\n",
       "      <td id=\"T_e2bb9_row12_col14\" class=\"data row12 col14\" >253</td>\n",
       "      <td id=\"T_e2bb9_row12_col15\" class=\"data row12 col15\" >187</td>\n",
       "      <td id=\"T_e2bb9_row12_col16\" class=\"data row12 col16\" >30</td>\n",
       "      <td id=\"T_e2bb9_row12_col17\" class=\"data row12 col17\" >0</td>\n",
       "      <td id=\"T_e2bb9_row12_col18\" class=\"data row12 col18\" >0</td>\n",
       "      <td id=\"T_e2bb9_row12_col19\" class=\"data row12 col19\" >0</td>\n",
       "      <td id=\"T_e2bb9_row12_col20\" class=\"data row12 col20\" >0</td>\n",
       "      <td id=\"T_e2bb9_row12_col21\" class=\"data row12 col21\" >0</td>\n",
       "      <td id=\"T_e2bb9_row12_col22\" class=\"data row12 col22\" >0</td>\n",
       "      <td id=\"T_e2bb9_row12_col23\" class=\"data row12 col23\" >0</td>\n",
       "      <td id=\"T_e2bb9_row12_col24\" class=\"data row12 col24\" >0</td>\n",
       "      <td id=\"T_e2bb9_row12_col25\" class=\"data row12 col25\" >0</td>\n",
       "      <td id=\"T_e2bb9_row12_col26\" class=\"data row12 col26\" >0</td>\n",
       "      <td id=\"T_e2bb9_row12_col27\" class=\"data row12 col27\" >0</td>\n",
       "    </tr>\n",
       "    <tr>\n",
       "      <th id=\"T_e2bb9_level0_row13\" class=\"row_heading level0 row13\" >13</th>\n",
       "      <td id=\"T_e2bb9_row13_col0\" class=\"data row13 col0\" >0</td>\n",
       "      <td id=\"T_e2bb9_row13_col1\" class=\"data row13 col1\" >0</td>\n",
       "      <td id=\"T_e2bb9_row13_col2\" class=\"data row13 col2\" >0</td>\n",
       "      <td id=\"T_e2bb9_row13_col3\" class=\"data row13 col3\" >0</td>\n",
       "      <td id=\"T_e2bb9_row13_col4\" class=\"data row13 col4\" >0</td>\n",
       "      <td id=\"T_e2bb9_row13_col5\" class=\"data row13 col5\" >0</td>\n",
       "      <td id=\"T_e2bb9_row13_col6\" class=\"data row13 col6\" >0</td>\n",
       "      <td id=\"T_e2bb9_row13_col7\" class=\"data row13 col7\" >0</td>\n",
       "      <td id=\"T_e2bb9_row13_col8\" class=\"data row13 col8\" >0</td>\n",
       "      <td id=\"T_e2bb9_row13_col9\" class=\"data row13 col9\" >16</td>\n",
       "      <td id=\"T_e2bb9_row13_col10\" class=\"data row13 col10\" >248</td>\n",
       "      <td id=\"T_e2bb9_row13_col11\" class=\"data row13 col11\" >250</td>\n",
       "      <td id=\"T_e2bb9_row13_col12\" class=\"data row13 col12\" >253</td>\n",
       "      <td id=\"T_e2bb9_row13_col13\" class=\"data row13 col13\" >253</td>\n",
       "      <td id=\"T_e2bb9_row13_col14\" class=\"data row13 col14\" >253</td>\n",
       "      <td id=\"T_e2bb9_row13_col15\" class=\"data row13 col15\" >253</td>\n",
       "      <td id=\"T_e2bb9_row13_col16\" class=\"data row13 col16\" >232</td>\n",
       "      <td id=\"T_e2bb9_row13_col17\" class=\"data row13 col17\" >213</td>\n",
       "      <td id=\"T_e2bb9_row13_col18\" class=\"data row13 col18\" >111</td>\n",
       "      <td id=\"T_e2bb9_row13_col19\" class=\"data row13 col19\" >2</td>\n",
       "      <td id=\"T_e2bb9_row13_col20\" class=\"data row13 col20\" >0</td>\n",
       "      <td id=\"T_e2bb9_row13_col21\" class=\"data row13 col21\" >0</td>\n",
       "      <td id=\"T_e2bb9_row13_col22\" class=\"data row13 col22\" >0</td>\n",
       "      <td id=\"T_e2bb9_row13_col23\" class=\"data row13 col23\" >0</td>\n",
       "      <td id=\"T_e2bb9_row13_col24\" class=\"data row13 col24\" >0</td>\n",
       "      <td id=\"T_e2bb9_row13_col25\" class=\"data row13 col25\" >0</td>\n",
       "      <td id=\"T_e2bb9_row13_col26\" class=\"data row13 col26\" >0</td>\n",
       "      <td id=\"T_e2bb9_row13_col27\" class=\"data row13 col27\" >0</td>\n",
       "    </tr>\n",
       "    <tr>\n",
       "      <th id=\"T_e2bb9_level0_row14\" class=\"row_heading level0 row14\" >14</th>\n",
       "      <td id=\"T_e2bb9_row14_col0\" class=\"data row14 col0\" >0</td>\n",
       "      <td id=\"T_e2bb9_row14_col1\" class=\"data row14 col1\" >0</td>\n",
       "      <td id=\"T_e2bb9_row14_col2\" class=\"data row14 col2\" >0</td>\n",
       "      <td id=\"T_e2bb9_row14_col3\" class=\"data row14 col3\" >0</td>\n",
       "      <td id=\"T_e2bb9_row14_col4\" class=\"data row14 col4\" >0</td>\n",
       "      <td id=\"T_e2bb9_row14_col5\" class=\"data row14 col5\" >0</td>\n",
       "      <td id=\"T_e2bb9_row14_col6\" class=\"data row14 col6\" >0</td>\n",
       "      <td id=\"T_e2bb9_row14_col7\" class=\"data row14 col7\" >0</td>\n",
       "      <td id=\"T_e2bb9_row14_col8\" class=\"data row14 col8\" >0</td>\n",
       "      <td id=\"T_e2bb9_row14_col9\" class=\"data row14 col9\" >0</td>\n",
       "      <td id=\"T_e2bb9_row14_col10\" class=\"data row14 col10\" >0</td>\n",
       "      <td id=\"T_e2bb9_row14_col11\" class=\"data row14 col11\" >43</td>\n",
       "      <td id=\"T_e2bb9_row14_col12\" class=\"data row14 col12\" >98</td>\n",
       "      <td id=\"T_e2bb9_row14_col13\" class=\"data row14 col13\" >98</td>\n",
       "      <td id=\"T_e2bb9_row14_col14\" class=\"data row14 col14\" >208</td>\n",
       "      <td id=\"T_e2bb9_row14_col15\" class=\"data row14 col15\" >253</td>\n",
       "      <td id=\"T_e2bb9_row14_col16\" class=\"data row14 col16\" >253</td>\n",
       "      <td id=\"T_e2bb9_row14_col17\" class=\"data row14 col17\" >253</td>\n",
       "      <td id=\"T_e2bb9_row14_col18\" class=\"data row14 col18\" >253</td>\n",
       "      <td id=\"T_e2bb9_row14_col19\" class=\"data row14 col19\" >187</td>\n",
       "      <td id=\"T_e2bb9_row14_col20\" class=\"data row14 col20\" >22</td>\n",
       "      <td id=\"T_e2bb9_row14_col21\" class=\"data row14 col21\" >0</td>\n",
       "      <td id=\"T_e2bb9_row14_col22\" class=\"data row14 col22\" >0</td>\n",
       "      <td id=\"T_e2bb9_row14_col23\" class=\"data row14 col23\" >0</td>\n",
       "      <td id=\"T_e2bb9_row14_col24\" class=\"data row14 col24\" >0</td>\n",
       "      <td id=\"T_e2bb9_row14_col25\" class=\"data row14 col25\" >0</td>\n",
       "      <td id=\"T_e2bb9_row14_col26\" class=\"data row14 col26\" >0</td>\n",
       "      <td id=\"T_e2bb9_row14_col27\" class=\"data row14 col27\" >0</td>\n",
       "    </tr>\n",
       "    <tr>\n",
       "      <th id=\"T_e2bb9_level0_row15\" class=\"row_heading level0 row15\" >15</th>\n",
       "      <td id=\"T_e2bb9_row15_col0\" class=\"data row15 col0\" >0</td>\n",
       "      <td id=\"T_e2bb9_row15_col1\" class=\"data row15 col1\" >0</td>\n",
       "      <td id=\"T_e2bb9_row15_col2\" class=\"data row15 col2\" >0</td>\n",
       "      <td id=\"T_e2bb9_row15_col3\" class=\"data row15 col3\" >0</td>\n",
       "      <td id=\"T_e2bb9_row15_col4\" class=\"data row15 col4\" >0</td>\n",
       "      <td id=\"T_e2bb9_row15_col5\" class=\"data row15 col5\" >0</td>\n",
       "      <td id=\"T_e2bb9_row15_col6\" class=\"data row15 col6\" >0</td>\n",
       "      <td id=\"T_e2bb9_row15_col7\" class=\"data row15 col7\" >0</td>\n",
       "      <td id=\"T_e2bb9_row15_col8\" class=\"data row15 col8\" >0</td>\n",
       "      <td id=\"T_e2bb9_row15_col9\" class=\"data row15 col9\" >0</td>\n",
       "      <td id=\"T_e2bb9_row15_col10\" class=\"data row15 col10\" >0</td>\n",
       "      <td id=\"T_e2bb9_row15_col11\" class=\"data row15 col11\" >0</td>\n",
       "      <td id=\"T_e2bb9_row15_col12\" class=\"data row15 col12\" >0</td>\n",
       "      <td id=\"T_e2bb9_row15_col13\" class=\"data row15 col13\" >0</td>\n",
       "      <td id=\"T_e2bb9_row15_col14\" class=\"data row15 col14\" >9</td>\n",
       "      <td id=\"T_e2bb9_row15_col15\" class=\"data row15 col15\" >51</td>\n",
       "      <td id=\"T_e2bb9_row15_col16\" class=\"data row15 col16\" >119</td>\n",
       "      <td id=\"T_e2bb9_row15_col17\" class=\"data row15 col17\" >253</td>\n",
       "      <td id=\"T_e2bb9_row15_col18\" class=\"data row15 col18\" >253</td>\n",
       "      <td id=\"T_e2bb9_row15_col19\" class=\"data row15 col19\" >253</td>\n",
       "      <td id=\"T_e2bb9_row15_col20\" class=\"data row15 col20\" >76</td>\n",
       "      <td id=\"T_e2bb9_row15_col21\" class=\"data row15 col21\" >0</td>\n",
       "      <td id=\"T_e2bb9_row15_col22\" class=\"data row15 col22\" >0</td>\n",
       "      <td id=\"T_e2bb9_row15_col23\" class=\"data row15 col23\" >0</td>\n",
       "      <td id=\"T_e2bb9_row15_col24\" class=\"data row15 col24\" >0</td>\n",
       "      <td id=\"T_e2bb9_row15_col25\" class=\"data row15 col25\" >0</td>\n",
       "      <td id=\"T_e2bb9_row15_col26\" class=\"data row15 col26\" >0</td>\n",
       "      <td id=\"T_e2bb9_row15_col27\" class=\"data row15 col27\" >0</td>\n",
       "    </tr>\n",
       "    <tr>\n",
       "      <th id=\"T_e2bb9_level0_row16\" class=\"row_heading level0 row16\" >16</th>\n",
       "      <td id=\"T_e2bb9_row16_col0\" class=\"data row16 col0\" >0</td>\n",
       "      <td id=\"T_e2bb9_row16_col1\" class=\"data row16 col1\" >0</td>\n",
       "      <td id=\"T_e2bb9_row16_col2\" class=\"data row16 col2\" >0</td>\n",
       "      <td id=\"T_e2bb9_row16_col3\" class=\"data row16 col3\" >0</td>\n",
       "      <td id=\"T_e2bb9_row16_col4\" class=\"data row16 col4\" >0</td>\n",
       "      <td id=\"T_e2bb9_row16_col5\" class=\"data row16 col5\" >0</td>\n",
       "      <td id=\"T_e2bb9_row16_col6\" class=\"data row16 col6\" >0</td>\n",
       "      <td id=\"T_e2bb9_row16_col7\" class=\"data row16 col7\" >0</td>\n",
       "      <td id=\"T_e2bb9_row16_col8\" class=\"data row16 col8\" >0</td>\n",
       "      <td id=\"T_e2bb9_row16_col9\" class=\"data row16 col9\" >0</td>\n",
       "      <td id=\"T_e2bb9_row16_col10\" class=\"data row16 col10\" >0</td>\n",
       "      <td id=\"T_e2bb9_row16_col11\" class=\"data row16 col11\" >0</td>\n",
       "      <td id=\"T_e2bb9_row16_col12\" class=\"data row16 col12\" >0</td>\n",
       "      <td id=\"T_e2bb9_row16_col13\" class=\"data row16 col13\" >0</td>\n",
       "      <td id=\"T_e2bb9_row16_col14\" class=\"data row16 col14\" >0</td>\n",
       "      <td id=\"T_e2bb9_row16_col15\" class=\"data row16 col15\" >0</td>\n",
       "      <td id=\"T_e2bb9_row16_col16\" class=\"data row16 col16\" >1</td>\n",
       "      <td id=\"T_e2bb9_row16_col17\" class=\"data row16 col17\" >183</td>\n",
       "      <td id=\"T_e2bb9_row16_col18\" class=\"data row16 col18\" >253</td>\n",
       "      <td id=\"T_e2bb9_row16_col19\" class=\"data row16 col19\" >253</td>\n",
       "      <td id=\"T_e2bb9_row16_col20\" class=\"data row16 col20\" >139</td>\n",
       "      <td id=\"T_e2bb9_row16_col21\" class=\"data row16 col21\" >0</td>\n",
       "      <td id=\"T_e2bb9_row16_col22\" class=\"data row16 col22\" >0</td>\n",
       "      <td id=\"T_e2bb9_row16_col23\" class=\"data row16 col23\" >0</td>\n",
       "      <td id=\"T_e2bb9_row16_col24\" class=\"data row16 col24\" >0</td>\n",
       "      <td id=\"T_e2bb9_row16_col25\" class=\"data row16 col25\" >0</td>\n",
       "      <td id=\"T_e2bb9_row16_col26\" class=\"data row16 col26\" >0</td>\n",
       "      <td id=\"T_e2bb9_row16_col27\" class=\"data row16 col27\" >0</td>\n",
       "    </tr>\n",
       "    <tr>\n",
       "      <th id=\"T_e2bb9_level0_row17\" class=\"row_heading level0 row17\" >17</th>\n",
       "      <td id=\"T_e2bb9_row17_col0\" class=\"data row17 col0\" >0</td>\n",
       "      <td id=\"T_e2bb9_row17_col1\" class=\"data row17 col1\" >0</td>\n",
       "      <td id=\"T_e2bb9_row17_col2\" class=\"data row17 col2\" >0</td>\n",
       "      <td id=\"T_e2bb9_row17_col3\" class=\"data row17 col3\" >0</td>\n",
       "      <td id=\"T_e2bb9_row17_col4\" class=\"data row17 col4\" >0</td>\n",
       "      <td id=\"T_e2bb9_row17_col5\" class=\"data row17 col5\" >0</td>\n",
       "      <td id=\"T_e2bb9_row17_col6\" class=\"data row17 col6\" >0</td>\n",
       "      <td id=\"T_e2bb9_row17_col7\" class=\"data row17 col7\" >0</td>\n",
       "      <td id=\"T_e2bb9_row17_col8\" class=\"data row17 col8\" >0</td>\n",
       "      <td id=\"T_e2bb9_row17_col9\" class=\"data row17 col9\" >0</td>\n",
       "      <td id=\"T_e2bb9_row17_col10\" class=\"data row17 col10\" >0</td>\n",
       "      <td id=\"T_e2bb9_row17_col11\" class=\"data row17 col11\" >0</td>\n",
       "      <td id=\"T_e2bb9_row17_col12\" class=\"data row17 col12\" >0</td>\n",
       "      <td id=\"T_e2bb9_row17_col13\" class=\"data row17 col13\" >0</td>\n",
       "      <td id=\"T_e2bb9_row17_col14\" class=\"data row17 col14\" >0</td>\n",
       "      <td id=\"T_e2bb9_row17_col15\" class=\"data row17 col15\" >0</td>\n",
       "      <td id=\"T_e2bb9_row17_col16\" class=\"data row17 col16\" >0</td>\n",
       "      <td id=\"T_e2bb9_row17_col17\" class=\"data row17 col17\" >182</td>\n",
       "      <td id=\"T_e2bb9_row17_col18\" class=\"data row17 col18\" >253</td>\n",
       "      <td id=\"T_e2bb9_row17_col19\" class=\"data row17 col19\" >253</td>\n",
       "      <td id=\"T_e2bb9_row17_col20\" class=\"data row17 col20\" >104</td>\n",
       "      <td id=\"T_e2bb9_row17_col21\" class=\"data row17 col21\" >0</td>\n",
       "      <td id=\"T_e2bb9_row17_col22\" class=\"data row17 col22\" >0</td>\n",
       "      <td id=\"T_e2bb9_row17_col23\" class=\"data row17 col23\" >0</td>\n",
       "      <td id=\"T_e2bb9_row17_col24\" class=\"data row17 col24\" >0</td>\n",
       "      <td id=\"T_e2bb9_row17_col25\" class=\"data row17 col25\" >0</td>\n",
       "      <td id=\"T_e2bb9_row17_col26\" class=\"data row17 col26\" >0</td>\n",
       "      <td id=\"T_e2bb9_row17_col27\" class=\"data row17 col27\" >0</td>\n",
       "    </tr>\n",
       "    <tr>\n",
       "      <th id=\"T_e2bb9_level0_row18\" class=\"row_heading level0 row18\" >18</th>\n",
       "      <td id=\"T_e2bb9_row18_col0\" class=\"data row18 col0\" >0</td>\n",
       "      <td id=\"T_e2bb9_row18_col1\" class=\"data row18 col1\" >0</td>\n",
       "      <td id=\"T_e2bb9_row18_col2\" class=\"data row18 col2\" >0</td>\n",
       "      <td id=\"T_e2bb9_row18_col3\" class=\"data row18 col3\" >0</td>\n",
       "      <td id=\"T_e2bb9_row18_col4\" class=\"data row18 col4\" >0</td>\n",
       "      <td id=\"T_e2bb9_row18_col5\" class=\"data row18 col5\" >0</td>\n",
       "      <td id=\"T_e2bb9_row18_col6\" class=\"data row18 col6\" >0</td>\n",
       "      <td id=\"T_e2bb9_row18_col7\" class=\"data row18 col7\" >0</td>\n",
       "      <td id=\"T_e2bb9_row18_col8\" class=\"data row18 col8\" >0</td>\n",
       "      <td id=\"T_e2bb9_row18_col9\" class=\"data row18 col9\" >0</td>\n",
       "      <td id=\"T_e2bb9_row18_col10\" class=\"data row18 col10\" >0</td>\n",
       "      <td id=\"T_e2bb9_row18_col11\" class=\"data row18 col11\" >0</td>\n",
       "      <td id=\"T_e2bb9_row18_col12\" class=\"data row18 col12\" >0</td>\n",
       "      <td id=\"T_e2bb9_row18_col13\" class=\"data row18 col13\" >0</td>\n",
       "      <td id=\"T_e2bb9_row18_col14\" class=\"data row18 col14\" >0</td>\n",
       "      <td id=\"T_e2bb9_row18_col15\" class=\"data row18 col15\" >0</td>\n",
       "      <td id=\"T_e2bb9_row18_col16\" class=\"data row18 col16\" >85</td>\n",
       "      <td id=\"T_e2bb9_row18_col17\" class=\"data row18 col17\" >249</td>\n",
       "      <td id=\"T_e2bb9_row18_col18\" class=\"data row18 col18\" >253</td>\n",
       "      <td id=\"T_e2bb9_row18_col19\" class=\"data row18 col19\" >253</td>\n",
       "      <td id=\"T_e2bb9_row18_col20\" class=\"data row18 col20\" >36</td>\n",
       "      <td id=\"T_e2bb9_row18_col21\" class=\"data row18 col21\" >0</td>\n",
       "      <td id=\"T_e2bb9_row18_col22\" class=\"data row18 col22\" >0</td>\n",
       "      <td id=\"T_e2bb9_row18_col23\" class=\"data row18 col23\" >0</td>\n",
       "      <td id=\"T_e2bb9_row18_col24\" class=\"data row18 col24\" >0</td>\n",
       "      <td id=\"T_e2bb9_row18_col25\" class=\"data row18 col25\" >0</td>\n",
       "      <td id=\"T_e2bb9_row18_col26\" class=\"data row18 col26\" >0</td>\n",
       "      <td id=\"T_e2bb9_row18_col27\" class=\"data row18 col27\" >0</td>\n",
       "    </tr>\n",
       "    <tr>\n",
       "      <th id=\"T_e2bb9_level0_row19\" class=\"row_heading level0 row19\" >19</th>\n",
       "      <td id=\"T_e2bb9_row19_col0\" class=\"data row19 col0\" >0</td>\n",
       "      <td id=\"T_e2bb9_row19_col1\" class=\"data row19 col1\" >0</td>\n",
       "      <td id=\"T_e2bb9_row19_col2\" class=\"data row19 col2\" >0</td>\n",
       "      <td id=\"T_e2bb9_row19_col3\" class=\"data row19 col3\" >0</td>\n",
       "      <td id=\"T_e2bb9_row19_col4\" class=\"data row19 col4\" >0</td>\n",
       "      <td id=\"T_e2bb9_row19_col5\" class=\"data row19 col5\" >0</td>\n",
       "      <td id=\"T_e2bb9_row19_col6\" class=\"data row19 col6\" >0</td>\n",
       "      <td id=\"T_e2bb9_row19_col7\" class=\"data row19 col7\" >0</td>\n",
       "      <td id=\"T_e2bb9_row19_col8\" class=\"data row19 col8\" >0</td>\n",
       "      <td id=\"T_e2bb9_row19_col9\" class=\"data row19 col9\" >0</td>\n",
       "      <td id=\"T_e2bb9_row19_col10\" class=\"data row19 col10\" >0</td>\n",
       "      <td id=\"T_e2bb9_row19_col11\" class=\"data row19 col11\" >0</td>\n",
       "      <td id=\"T_e2bb9_row19_col12\" class=\"data row19 col12\" >0</td>\n",
       "      <td id=\"T_e2bb9_row19_col13\" class=\"data row19 col13\" >0</td>\n",
       "      <td id=\"T_e2bb9_row19_col14\" class=\"data row19 col14\" >0</td>\n",
       "      <td id=\"T_e2bb9_row19_col15\" class=\"data row19 col15\" >60</td>\n",
       "      <td id=\"T_e2bb9_row19_col16\" class=\"data row19 col16\" >214</td>\n",
       "      <td id=\"T_e2bb9_row19_col17\" class=\"data row19 col17\" >253</td>\n",
       "      <td id=\"T_e2bb9_row19_col18\" class=\"data row19 col18\" >253</td>\n",
       "      <td id=\"T_e2bb9_row19_col19\" class=\"data row19 col19\" >173</td>\n",
       "      <td id=\"T_e2bb9_row19_col20\" class=\"data row19 col20\" >11</td>\n",
       "      <td id=\"T_e2bb9_row19_col21\" class=\"data row19 col21\" >0</td>\n",
       "      <td id=\"T_e2bb9_row19_col22\" class=\"data row19 col22\" >0</td>\n",
       "      <td id=\"T_e2bb9_row19_col23\" class=\"data row19 col23\" >0</td>\n",
       "      <td id=\"T_e2bb9_row19_col24\" class=\"data row19 col24\" >0</td>\n",
       "      <td id=\"T_e2bb9_row19_col25\" class=\"data row19 col25\" >0</td>\n",
       "      <td id=\"T_e2bb9_row19_col26\" class=\"data row19 col26\" >0</td>\n",
       "      <td id=\"T_e2bb9_row19_col27\" class=\"data row19 col27\" >0</td>\n",
       "    </tr>\n",
       "    <tr>\n",
       "      <th id=\"T_e2bb9_level0_row20\" class=\"row_heading level0 row20\" >20</th>\n",
       "      <td id=\"T_e2bb9_row20_col0\" class=\"data row20 col0\" >0</td>\n",
       "      <td id=\"T_e2bb9_row20_col1\" class=\"data row20 col1\" >0</td>\n",
       "      <td id=\"T_e2bb9_row20_col2\" class=\"data row20 col2\" >0</td>\n",
       "      <td id=\"T_e2bb9_row20_col3\" class=\"data row20 col3\" >0</td>\n",
       "      <td id=\"T_e2bb9_row20_col4\" class=\"data row20 col4\" >0</td>\n",
       "      <td id=\"T_e2bb9_row20_col5\" class=\"data row20 col5\" >0</td>\n",
       "      <td id=\"T_e2bb9_row20_col6\" class=\"data row20 col6\" >0</td>\n",
       "      <td id=\"T_e2bb9_row20_col7\" class=\"data row20 col7\" >0</td>\n",
       "      <td id=\"T_e2bb9_row20_col8\" class=\"data row20 col8\" >0</td>\n",
       "      <td id=\"T_e2bb9_row20_col9\" class=\"data row20 col9\" >0</td>\n",
       "      <td id=\"T_e2bb9_row20_col10\" class=\"data row20 col10\" >0</td>\n",
       "      <td id=\"T_e2bb9_row20_col11\" class=\"data row20 col11\" >0</td>\n",
       "      <td id=\"T_e2bb9_row20_col12\" class=\"data row20 col12\" >0</td>\n",
       "      <td id=\"T_e2bb9_row20_col13\" class=\"data row20 col13\" >0</td>\n",
       "      <td id=\"T_e2bb9_row20_col14\" class=\"data row20 col14\" >98</td>\n",
       "      <td id=\"T_e2bb9_row20_col15\" class=\"data row20 col15\" >247</td>\n",
       "      <td id=\"T_e2bb9_row20_col16\" class=\"data row20 col16\" >253</td>\n",
       "      <td id=\"T_e2bb9_row20_col17\" class=\"data row20 col17\" >253</td>\n",
       "      <td id=\"T_e2bb9_row20_col18\" class=\"data row20 col18\" >226</td>\n",
       "      <td id=\"T_e2bb9_row20_col19\" class=\"data row20 col19\" >9</td>\n",
       "      <td id=\"T_e2bb9_row20_col20\" class=\"data row20 col20\" >0</td>\n",
       "      <td id=\"T_e2bb9_row20_col21\" class=\"data row20 col21\" >0</td>\n",
       "      <td id=\"T_e2bb9_row20_col22\" class=\"data row20 col22\" >0</td>\n",
       "      <td id=\"T_e2bb9_row20_col23\" class=\"data row20 col23\" >0</td>\n",
       "      <td id=\"T_e2bb9_row20_col24\" class=\"data row20 col24\" >0</td>\n",
       "      <td id=\"T_e2bb9_row20_col25\" class=\"data row20 col25\" >0</td>\n",
       "      <td id=\"T_e2bb9_row20_col26\" class=\"data row20 col26\" >0</td>\n",
       "      <td id=\"T_e2bb9_row20_col27\" class=\"data row20 col27\" >0</td>\n",
       "    </tr>\n",
       "    <tr>\n",
       "      <th id=\"T_e2bb9_level0_row21\" class=\"row_heading level0 row21\" >21</th>\n",
       "      <td id=\"T_e2bb9_row21_col0\" class=\"data row21 col0\" >0</td>\n",
       "      <td id=\"T_e2bb9_row21_col1\" class=\"data row21 col1\" >0</td>\n",
       "      <td id=\"T_e2bb9_row21_col2\" class=\"data row21 col2\" >0</td>\n",
       "      <td id=\"T_e2bb9_row21_col3\" class=\"data row21 col3\" >0</td>\n",
       "      <td id=\"T_e2bb9_row21_col4\" class=\"data row21 col4\" >0</td>\n",
       "      <td id=\"T_e2bb9_row21_col5\" class=\"data row21 col5\" >0</td>\n",
       "      <td id=\"T_e2bb9_row21_col6\" class=\"data row21 col6\" >0</td>\n",
       "      <td id=\"T_e2bb9_row21_col7\" class=\"data row21 col7\" >0</td>\n",
       "      <td id=\"T_e2bb9_row21_col8\" class=\"data row21 col8\" >0</td>\n",
       "      <td id=\"T_e2bb9_row21_col9\" class=\"data row21 col9\" >0</td>\n",
       "      <td id=\"T_e2bb9_row21_col10\" class=\"data row21 col10\" >0</td>\n",
       "      <td id=\"T_e2bb9_row21_col11\" class=\"data row21 col11\" >0</td>\n",
       "      <td id=\"T_e2bb9_row21_col12\" class=\"data row21 col12\" >42</td>\n",
       "      <td id=\"T_e2bb9_row21_col13\" class=\"data row21 col13\" >150</td>\n",
       "      <td id=\"T_e2bb9_row21_col14\" class=\"data row21 col14\" >252</td>\n",
       "      <td id=\"T_e2bb9_row21_col15\" class=\"data row21 col15\" >253</td>\n",
       "      <td id=\"T_e2bb9_row21_col16\" class=\"data row21 col16\" >253</td>\n",
       "      <td id=\"T_e2bb9_row21_col17\" class=\"data row21 col17\" >233</td>\n",
       "      <td id=\"T_e2bb9_row21_col18\" class=\"data row21 col18\" >53</td>\n",
       "      <td id=\"T_e2bb9_row21_col19\" class=\"data row21 col19\" >0</td>\n",
       "      <td id=\"T_e2bb9_row21_col20\" class=\"data row21 col20\" >0</td>\n",
       "      <td id=\"T_e2bb9_row21_col21\" class=\"data row21 col21\" >0</td>\n",
       "      <td id=\"T_e2bb9_row21_col22\" class=\"data row21 col22\" >0</td>\n",
       "      <td id=\"T_e2bb9_row21_col23\" class=\"data row21 col23\" >0</td>\n",
       "      <td id=\"T_e2bb9_row21_col24\" class=\"data row21 col24\" >0</td>\n",
       "      <td id=\"T_e2bb9_row21_col25\" class=\"data row21 col25\" >0</td>\n",
       "      <td id=\"T_e2bb9_row21_col26\" class=\"data row21 col26\" >0</td>\n",
       "      <td id=\"T_e2bb9_row21_col27\" class=\"data row21 col27\" >0</td>\n",
       "    </tr>\n",
       "    <tr>\n",
       "      <th id=\"T_e2bb9_level0_row22\" class=\"row_heading level0 row22\" >22</th>\n",
       "      <td id=\"T_e2bb9_row22_col0\" class=\"data row22 col0\" >0</td>\n",
       "      <td id=\"T_e2bb9_row22_col1\" class=\"data row22 col1\" >0</td>\n",
       "      <td id=\"T_e2bb9_row22_col2\" class=\"data row22 col2\" >0</td>\n",
       "      <td id=\"T_e2bb9_row22_col3\" class=\"data row22 col3\" >0</td>\n",
       "      <td id=\"T_e2bb9_row22_col4\" class=\"data row22 col4\" >0</td>\n",
       "      <td id=\"T_e2bb9_row22_col5\" class=\"data row22 col5\" >0</td>\n",
       "      <td id=\"T_e2bb9_row22_col6\" class=\"data row22 col6\" >42</td>\n",
       "      <td id=\"T_e2bb9_row22_col7\" class=\"data row22 col7\" >115</td>\n",
       "      <td id=\"T_e2bb9_row22_col8\" class=\"data row22 col8\" >42</td>\n",
       "      <td id=\"T_e2bb9_row22_col9\" class=\"data row22 col9\" >60</td>\n",
       "      <td id=\"T_e2bb9_row22_col10\" class=\"data row22 col10\" >115</td>\n",
       "      <td id=\"T_e2bb9_row22_col11\" class=\"data row22 col11\" >159</td>\n",
       "      <td id=\"T_e2bb9_row22_col12\" class=\"data row22 col12\" >240</td>\n",
       "      <td id=\"T_e2bb9_row22_col13\" class=\"data row22 col13\" >253</td>\n",
       "      <td id=\"T_e2bb9_row22_col14\" class=\"data row22 col14\" >253</td>\n",
       "      <td id=\"T_e2bb9_row22_col15\" class=\"data row22 col15\" >250</td>\n",
       "      <td id=\"T_e2bb9_row22_col16\" class=\"data row22 col16\" >175</td>\n",
       "      <td id=\"T_e2bb9_row22_col17\" class=\"data row22 col17\" >25</td>\n",
       "      <td id=\"T_e2bb9_row22_col18\" class=\"data row22 col18\" >0</td>\n",
       "      <td id=\"T_e2bb9_row22_col19\" class=\"data row22 col19\" >0</td>\n",
       "      <td id=\"T_e2bb9_row22_col20\" class=\"data row22 col20\" >0</td>\n",
       "      <td id=\"T_e2bb9_row22_col21\" class=\"data row22 col21\" >0</td>\n",
       "      <td id=\"T_e2bb9_row22_col22\" class=\"data row22 col22\" >0</td>\n",
       "      <td id=\"T_e2bb9_row22_col23\" class=\"data row22 col23\" >0</td>\n",
       "      <td id=\"T_e2bb9_row22_col24\" class=\"data row22 col24\" >0</td>\n",
       "      <td id=\"T_e2bb9_row22_col25\" class=\"data row22 col25\" >0</td>\n",
       "      <td id=\"T_e2bb9_row22_col26\" class=\"data row22 col26\" >0</td>\n",
       "      <td id=\"T_e2bb9_row22_col27\" class=\"data row22 col27\" >0</td>\n",
       "    </tr>\n",
       "    <tr>\n",
       "      <th id=\"T_e2bb9_level0_row23\" class=\"row_heading level0 row23\" >23</th>\n",
       "      <td id=\"T_e2bb9_row23_col0\" class=\"data row23 col0\" >0</td>\n",
       "      <td id=\"T_e2bb9_row23_col1\" class=\"data row23 col1\" >0</td>\n",
       "      <td id=\"T_e2bb9_row23_col2\" class=\"data row23 col2\" >0</td>\n",
       "      <td id=\"T_e2bb9_row23_col3\" class=\"data row23 col3\" >0</td>\n",
       "      <td id=\"T_e2bb9_row23_col4\" class=\"data row23 col4\" >0</td>\n",
       "      <td id=\"T_e2bb9_row23_col5\" class=\"data row23 col5\" >0</td>\n",
       "      <td id=\"T_e2bb9_row23_col6\" class=\"data row23 col6\" >187</td>\n",
       "      <td id=\"T_e2bb9_row23_col7\" class=\"data row23 col7\" >253</td>\n",
       "      <td id=\"T_e2bb9_row23_col8\" class=\"data row23 col8\" >253</td>\n",
       "      <td id=\"T_e2bb9_row23_col9\" class=\"data row23 col9\" >253</td>\n",
       "      <td id=\"T_e2bb9_row23_col10\" class=\"data row23 col10\" >253</td>\n",
       "      <td id=\"T_e2bb9_row23_col11\" class=\"data row23 col11\" >253</td>\n",
       "      <td id=\"T_e2bb9_row23_col12\" class=\"data row23 col12\" >253</td>\n",
       "      <td id=\"T_e2bb9_row23_col13\" class=\"data row23 col13\" >253</td>\n",
       "      <td id=\"T_e2bb9_row23_col14\" class=\"data row23 col14\" >197</td>\n",
       "      <td id=\"T_e2bb9_row23_col15\" class=\"data row23 col15\" >86</td>\n",
       "      <td id=\"T_e2bb9_row23_col16\" class=\"data row23 col16\" >0</td>\n",
       "      <td id=\"T_e2bb9_row23_col17\" class=\"data row23 col17\" >0</td>\n",
       "      <td id=\"T_e2bb9_row23_col18\" class=\"data row23 col18\" >0</td>\n",
       "      <td id=\"T_e2bb9_row23_col19\" class=\"data row23 col19\" >0</td>\n",
       "      <td id=\"T_e2bb9_row23_col20\" class=\"data row23 col20\" >0</td>\n",
       "      <td id=\"T_e2bb9_row23_col21\" class=\"data row23 col21\" >0</td>\n",
       "      <td id=\"T_e2bb9_row23_col22\" class=\"data row23 col22\" >0</td>\n",
       "      <td id=\"T_e2bb9_row23_col23\" class=\"data row23 col23\" >0</td>\n",
       "      <td id=\"T_e2bb9_row23_col24\" class=\"data row23 col24\" >0</td>\n",
       "      <td id=\"T_e2bb9_row23_col25\" class=\"data row23 col25\" >0</td>\n",
       "      <td id=\"T_e2bb9_row23_col26\" class=\"data row23 col26\" >0</td>\n",
       "      <td id=\"T_e2bb9_row23_col27\" class=\"data row23 col27\" >0</td>\n",
       "    </tr>\n",
       "    <tr>\n",
       "      <th id=\"T_e2bb9_level0_row24\" class=\"row_heading level0 row24\" >24</th>\n",
       "      <td id=\"T_e2bb9_row24_col0\" class=\"data row24 col0\" >0</td>\n",
       "      <td id=\"T_e2bb9_row24_col1\" class=\"data row24 col1\" >0</td>\n",
       "      <td id=\"T_e2bb9_row24_col2\" class=\"data row24 col2\" >0</td>\n",
       "      <td id=\"T_e2bb9_row24_col3\" class=\"data row24 col3\" >0</td>\n",
       "      <td id=\"T_e2bb9_row24_col4\" class=\"data row24 col4\" >0</td>\n",
       "      <td id=\"T_e2bb9_row24_col5\" class=\"data row24 col5\" >0</td>\n",
       "      <td id=\"T_e2bb9_row24_col6\" class=\"data row24 col6\" >103</td>\n",
       "      <td id=\"T_e2bb9_row24_col7\" class=\"data row24 col7\" >253</td>\n",
       "      <td id=\"T_e2bb9_row24_col8\" class=\"data row24 col8\" >253</td>\n",
       "      <td id=\"T_e2bb9_row24_col9\" class=\"data row24 col9\" >253</td>\n",
       "      <td id=\"T_e2bb9_row24_col10\" class=\"data row24 col10\" >253</td>\n",
       "      <td id=\"T_e2bb9_row24_col11\" class=\"data row24 col11\" >253</td>\n",
       "      <td id=\"T_e2bb9_row24_col12\" class=\"data row24 col12\" >232</td>\n",
       "      <td id=\"T_e2bb9_row24_col13\" class=\"data row24 col13\" >67</td>\n",
       "      <td id=\"T_e2bb9_row24_col14\" class=\"data row24 col14\" >1</td>\n",
       "      <td id=\"T_e2bb9_row24_col15\" class=\"data row24 col15\" >0</td>\n",
       "      <td id=\"T_e2bb9_row24_col16\" class=\"data row24 col16\" >0</td>\n",
       "      <td id=\"T_e2bb9_row24_col17\" class=\"data row24 col17\" >0</td>\n",
       "      <td id=\"T_e2bb9_row24_col18\" class=\"data row24 col18\" >0</td>\n",
       "      <td id=\"T_e2bb9_row24_col19\" class=\"data row24 col19\" >0</td>\n",
       "      <td id=\"T_e2bb9_row24_col20\" class=\"data row24 col20\" >0</td>\n",
       "      <td id=\"T_e2bb9_row24_col21\" class=\"data row24 col21\" >0</td>\n",
       "      <td id=\"T_e2bb9_row24_col22\" class=\"data row24 col22\" >0</td>\n",
       "      <td id=\"T_e2bb9_row24_col23\" class=\"data row24 col23\" >0</td>\n",
       "      <td id=\"T_e2bb9_row24_col24\" class=\"data row24 col24\" >0</td>\n",
       "      <td id=\"T_e2bb9_row24_col25\" class=\"data row24 col25\" >0</td>\n",
       "      <td id=\"T_e2bb9_row24_col26\" class=\"data row24 col26\" >0</td>\n",
       "      <td id=\"T_e2bb9_row24_col27\" class=\"data row24 col27\" >0</td>\n",
       "    </tr>\n",
       "    <tr>\n",
       "      <th id=\"T_e2bb9_level0_row25\" class=\"row_heading level0 row25\" >25</th>\n",
       "      <td id=\"T_e2bb9_row25_col0\" class=\"data row25 col0\" >0</td>\n",
       "      <td id=\"T_e2bb9_row25_col1\" class=\"data row25 col1\" >0</td>\n",
       "      <td id=\"T_e2bb9_row25_col2\" class=\"data row25 col2\" >0</td>\n",
       "      <td id=\"T_e2bb9_row25_col3\" class=\"data row25 col3\" >0</td>\n",
       "      <td id=\"T_e2bb9_row25_col4\" class=\"data row25 col4\" >0</td>\n",
       "      <td id=\"T_e2bb9_row25_col5\" class=\"data row25 col5\" >0</td>\n",
       "      <td id=\"T_e2bb9_row25_col6\" class=\"data row25 col6\" >0</td>\n",
       "      <td id=\"T_e2bb9_row25_col7\" class=\"data row25 col7\" >0</td>\n",
       "      <td id=\"T_e2bb9_row25_col8\" class=\"data row25 col8\" >0</td>\n",
       "      <td id=\"T_e2bb9_row25_col9\" class=\"data row25 col9\" >0</td>\n",
       "      <td id=\"T_e2bb9_row25_col10\" class=\"data row25 col10\" >0</td>\n",
       "      <td id=\"T_e2bb9_row25_col11\" class=\"data row25 col11\" >0</td>\n",
       "      <td id=\"T_e2bb9_row25_col12\" class=\"data row25 col12\" >0</td>\n",
       "      <td id=\"T_e2bb9_row25_col13\" class=\"data row25 col13\" >0</td>\n",
       "      <td id=\"T_e2bb9_row25_col14\" class=\"data row25 col14\" >0</td>\n",
       "      <td id=\"T_e2bb9_row25_col15\" class=\"data row25 col15\" >0</td>\n",
       "      <td id=\"T_e2bb9_row25_col16\" class=\"data row25 col16\" >0</td>\n",
       "      <td id=\"T_e2bb9_row25_col17\" class=\"data row25 col17\" >0</td>\n",
       "      <td id=\"T_e2bb9_row25_col18\" class=\"data row25 col18\" >0</td>\n",
       "      <td id=\"T_e2bb9_row25_col19\" class=\"data row25 col19\" >0</td>\n",
       "      <td id=\"T_e2bb9_row25_col20\" class=\"data row25 col20\" >0</td>\n",
       "      <td id=\"T_e2bb9_row25_col21\" class=\"data row25 col21\" >0</td>\n",
       "      <td id=\"T_e2bb9_row25_col22\" class=\"data row25 col22\" >0</td>\n",
       "      <td id=\"T_e2bb9_row25_col23\" class=\"data row25 col23\" >0</td>\n",
       "      <td id=\"T_e2bb9_row25_col24\" class=\"data row25 col24\" >0</td>\n",
       "      <td id=\"T_e2bb9_row25_col25\" class=\"data row25 col25\" >0</td>\n",
       "      <td id=\"T_e2bb9_row25_col26\" class=\"data row25 col26\" >0</td>\n",
       "      <td id=\"T_e2bb9_row25_col27\" class=\"data row25 col27\" >0</td>\n",
       "    </tr>\n",
       "    <tr>\n",
       "      <th id=\"T_e2bb9_level0_row26\" class=\"row_heading level0 row26\" >26</th>\n",
       "      <td id=\"T_e2bb9_row26_col0\" class=\"data row26 col0\" >0</td>\n",
       "      <td id=\"T_e2bb9_row26_col1\" class=\"data row26 col1\" >0</td>\n",
       "      <td id=\"T_e2bb9_row26_col2\" class=\"data row26 col2\" >0</td>\n",
       "      <td id=\"T_e2bb9_row26_col3\" class=\"data row26 col3\" >0</td>\n",
       "      <td id=\"T_e2bb9_row26_col4\" class=\"data row26 col4\" >0</td>\n",
       "      <td id=\"T_e2bb9_row26_col5\" class=\"data row26 col5\" >0</td>\n",
       "      <td id=\"T_e2bb9_row26_col6\" class=\"data row26 col6\" >0</td>\n",
       "      <td id=\"T_e2bb9_row26_col7\" class=\"data row26 col7\" >0</td>\n",
       "      <td id=\"T_e2bb9_row26_col8\" class=\"data row26 col8\" >0</td>\n",
       "      <td id=\"T_e2bb9_row26_col9\" class=\"data row26 col9\" >0</td>\n",
       "      <td id=\"T_e2bb9_row26_col10\" class=\"data row26 col10\" >0</td>\n",
       "      <td id=\"T_e2bb9_row26_col11\" class=\"data row26 col11\" >0</td>\n",
       "      <td id=\"T_e2bb9_row26_col12\" class=\"data row26 col12\" >0</td>\n",
       "      <td id=\"T_e2bb9_row26_col13\" class=\"data row26 col13\" >0</td>\n",
       "      <td id=\"T_e2bb9_row26_col14\" class=\"data row26 col14\" >0</td>\n",
       "      <td id=\"T_e2bb9_row26_col15\" class=\"data row26 col15\" >0</td>\n",
       "      <td id=\"T_e2bb9_row26_col16\" class=\"data row26 col16\" >0</td>\n",
       "      <td id=\"T_e2bb9_row26_col17\" class=\"data row26 col17\" >0</td>\n",
       "      <td id=\"T_e2bb9_row26_col18\" class=\"data row26 col18\" >0</td>\n",
       "      <td id=\"T_e2bb9_row26_col19\" class=\"data row26 col19\" >0</td>\n",
       "      <td id=\"T_e2bb9_row26_col20\" class=\"data row26 col20\" >0</td>\n",
       "      <td id=\"T_e2bb9_row26_col21\" class=\"data row26 col21\" >0</td>\n",
       "      <td id=\"T_e2bb9_row26_col22\" class=\"data row26 col22\" >0</td>\n",
       "      <td id=\"T_e2bb9_row26_col23\" class=\"data row26 col23\" >0</td>\n",
       "      <td id=\"T_e2bb9_row26_col24\" class=\"data row26 col24\" >0</td>\n",
       "      <td id=\"T_e2bb9_row26_col25\" class=\"data row26 col25\" >0</td>\n",
       "      <td id=\"T_e2bb9_row26_col26\" class=\"data row26 col26\" >0</td>\n",
       "      <td id=\"T_e2bb9_row26_col27\" class=\"data row26 col27\" >0</td>\n",
       "    </tr>\n",
       "    <tr>\n",
       "      <th id=\"T_e2bb9_level0_row27\" class=\"row_heading level0 row27\" >27</th>\n",
       "      <td id=\"T_e2bb9_row27_col0\" class=\"data row27 col0\" >0</td>\n",
       "      <td id=\"T_e2bb9_row27_col1\" class=\"data row27 col1\" >0</td>\n",
       "      <td id=\"T_e2bb9_row27_col2\" class=\"data row27 col2\" >0</td>\n",
       "      <td id=\"T_e2bb9_row27_col3\" class=\"data row27 col3\" >0</td>\n",
       "      <td id=\"T_e2bb9_row27_col4\" class=\"data row27 col4\" >0</td>\n",
       "      <td id=\"T_e2bb9_row27_col5\" class=\"data row27 col5\" >0</td>\n",
       "      <td id=\"T_e2bb9_row27_col6\" class=\"data row27 col6\" >0</td>\n",
       "      <td id=\"T_e2bb9_row27_col7\" class=\"data row27 col7\" >0</td>\n",
       "      <td id=\"T_e2bb9_row27_col8\" class=\"data row27 col8\" >0</td>\n",
       "      <td id=\"T_e2bb9_row27_col9\" class=\"data row27 col9\" >0</td>\n",
       "      <td id=\"T_e2bb9_row27_col10\" class=\"data row27 col10\" >0</td>\n",
       "      <td id=\"T_e2bb9_row27_col11\" class=\"data row27 col11\" >0</td>\n",
       "      <td id=\"T_e2bb9_row27_col12\" class=\"data row27 col12\" >0</td>\n",
       "      <td id=\"T_e2bb9_row27_col13\" class=\"data row27 col13\" >0</td>\n",
       "      <td id=\"T_e2bb9_row27_col14\" class=\"data row27 col14\" >0</td>\n",
       "      <td id=\"T_e2bb9_row27_col15\" class=\"data row27 col15\" >0</td>\n",
       "      <td id=\"T_e2bb9_row27_col16\" class=\"data row27 col16\" >0</td>\n",
       "      <td id=\"T_e2bb9_row27_col17\" class=\"data row27 col17\" >0</td>\n",
       "      <td id=\"T_e2bb9_row27_col18\" class=\"data row27 col18\" >0</td>\n",
       "      <td id=\"T_e2bb9_row27_col19\" class=\"data row27 col19\" >0</td>\n",
       "      <td id=\"T_e2bb9_row27_col20\" class=\"data row27 col20\" >0</td>\n",
       "      <td id=\"T_e2bb9_row27_col21\" class=\"data row27 col21\" >0</td>\n",
       "      <td id=\"T_e2bb9_row27_col22\" class=\"data row27 col22\" >0</td>\n",
       "      <td id=\"T_e2bb9_row27_col23\" class=\"data row27 col23\" >0</td>\n",
       "      <td id=\"T_e2bb9_row27_col24\" class=\"data row27 col24\" >0</td>\n",
       "      <td id=\"T_e2bb9_row27_col25\" class=\"data row27 col25\" >0</td>\n",
       "      <td id=\"T_e2bb9_row27_col26\" class=\"data row27 col26\" >0</td>\n",
       "      <td id=\"T_e2bb9_row27_col27\" class=\"data row27 col27\" >0</td>\n",
       "    </tr>\n",
       "  </tbody>\n",
       "</table>\n"
      ],
      "text/plain": [
       "<pandas.io.formats.style.Styler at 0x1bc9cc83ca0>"
      ]
     },
     "execution_count": 19,
     "metadata": {},
     "output_type": "execute_result"
    }
   ],
   "source": [
    "# hide_output\n",
    "im3_t = tensor(im3)\n",
    "df = pd.DataFrame(im3_t)\n",
    "df.style.set_properties(**{'font-size': '6pt'}).background_gradient('Greys')"
   ]
  },
  {
   "cell_type": "markdown",
   "id": "e6b31b8c",
   "metadata": {},
   "source": [
    "# OUR GOAL: [ to create a model that can recognize 3's and 7's ]"
   ]
  },
  {
   "cell_type": "code",
   "execution_count": 46,
   "id": "605f4b72",
   "metadata": {},
   "outputs": [
    {
     "data": {
      "text/plain": [
       "(6265, 6131)"
      ]
     },
     "execution_count": 46,
     "metadata": {},
     "output_type": "execute_result"
    }
   ],
   "source": [
    "seven_ts = [tensor(Image.open(o)) for o in sevens]\n",
    "three_ts = [tensor(Image.open(o)) for o in threes]\n",
    "len(seven_ts), len(three_ts)"
   ]
  },
  {
   "cell_type": "code",
   "execution_count": 49,
   "id": "65d7fd9f",
   "metadata": {},
   "outputs": [
    {
     "data": {
      "text/plain": [
       "<Axes: >"
      ]
     },
     "execution_count": 49,
     "metadata": {},
     "output_type": "execute_result"
    },
    {
     "data": {
      "image/png": "[encoded data removed]",
      "text/plain": [
       "<Figure size 100x100 with 1 Axes>"
      ]
     },
     "metadata": {},
     "output_type": "display_data"
    }
   ],
   "source": [
    "show_image(seven_ts[1])"
   ]
  },
  {
   "cell_type": "code",
   "execution_count": 56,
   "id": "af70270c",
   "metadata": {},
   "outputs": [
    {
     "data": {
      "text/plain": [
       "(torch.Size([6131, 28, 28]), torch.Size([6265, 28, 28]))"
      ]
     },
     "execution_count": 56,
     "metadata": {},
     "output_type": "execute_result"
    }
   ],
   "source": [
    "stacked_sevens = torch.stack(seven_ts).float()/255\n",
    "stacked_threes = torch.stack(three_ts).float()/255\n",
    "stacked_threes.shape, stacked_sevens.shape"
   ]
  },
  {
   "cell_type": "code",
   "execution_count": 57,
   "id": "28ae499b",
   "metadata": {},
   "outputs": [
    {
     "data": {
      "text/plain": [
       "3"
      ]
     },
     "execution_count": 57,
     "metadata": {},
     "output_type": "execute_result"
    }
   ],
   "source": [
    "stacked_threes.ndim  # tensor's rank is 3"
   ]
  },
  {
   "cell_type": "code",
   "execution_count": 58,
   "id": "aef1f940",
   "metadata": {},
   "outputs": [
    {
     "data": {
      "text/plain": [
       "<Axes: >"
      ]
     },
     "execution_count": 58,
     "metadata": {},
     "output_type": "execute_result"
    },
    {
     "data": {
      "image/png": "[encoded data removed]",
      "text/plain": [
       "<Figure size 100x100 with 1 Axes>"
      ]
     },
     "metadata": {},
     "output_type": "display_data"
    }
   ],
   "source": [
    "# let's compute the avg of a pixel over all images\n",
    "mean3 = stacked_threes.mean(0)\n",
    "show_image(mean3)"
   ]
  },
  {
   "cell_type": "code",
   "execution_count": 59,
   "id": "2903d12e",
   "metadata": {},
   "outputs": [
    {
     "data": {
      "text/plain": [
       "<Axes: >"
      ]
     },
     "execution_count": 59,
     "metadata": {},
     "output_type": "execute_result"
    },
    {
     "data": {
      "image/png": "[encoded data removed]",
      "text/plain": [
       "<Figure size 100x100 with 1 Axes>"
      ]
     },
     "metadata": {},
     "output_type": "display_data"
    }
   ],
   "source": [
    "mean7 = stacked_sevens.mean(0)\n",
    "show_image(mean7)"
   ]
  },
  {
   "cell_type": "code",
   "execution_count": 62,
   "id": "15eda412",
   "metadata": {},
   "outputs": [
    {
     "data": {
      "text/plain": [
       "<Axes: >"
      ]
     },
     "execution_count": 62,
     "metadata": {},
     "output_type": "execute_result"
    },
    {
     "data": {
      "image/png": "[encoded data removed]",
      "text/plain": [
       "<Figure size 100x100 with 1 Axes>"
      ]
     },
     "metadata": {},
     "output_type": "display_data"
    }
   ],
   "source": [
    "# let's pick an arbitrary 3 and measure its distance from our \"ideal digits\"\n",
    "a_3 = stacked_threes[1]\n",
    "show_image(a_3)"
   ]
  },
  {
   "cell_type": "code",
   "execution_count": 63,
   "id": "69d57a79",
   "metadata": {},
   "outputs": [
    {
     "data": {
      "text/plain": [
       "(tensor(0.1114), tensor(0.2021))"
      ]
     },
     "execution_count": 63,
     "metadata": {},
     "output_type": "execute_result"
    }
   ],
   "source": [
    "dist_3_abs = (a_3 - mean3).abs().mean()\n",
    "dist_3_sqr = ((a_3 - mean3)**2).mean().sqrt()\n",
    "dist_3_abs, dist_3_sqr"
   ]
  },
  {
   "cell_type": "code",
   "execution_count": 67,
   "id": "373dd2a4",
   "metadata": {},
   "outputs": [
    {
     "data": {
      "text/plain": [
       "(tensor(0.1304), tensor(0.2585))"
      ]
     },
     "execution_count": 67,
     "metadata": {},
     "output_type": "execute_result"
    }
   ],
   "source": [
    "a_7 = stacked_sevens[1]\n",
    "dist_7_abs = (a_7 - mean7).abs().mean()\n",
    "dist_7_sqr = ((a_7 - mean7)**2).mean().sqrt()\n",
    "dist_7_abs, dist_7_sqr"
   ]
  },
  {
   "cell_type": "code",
   "execution_count": 68,
   "id": "38d2eb2c",
   "metadata": {},
   "outputs": [
    {
     "data": {
      "text/plain": [
       "tensor(0.1114)"
      ]
     },
     "execution_count": 68,
     "metadata": {},
     "output_type": "execute_result"
    }
   ],
   "source": [
    "import torch.nn.functional as F\n",
    "F.l1_loss(a_3.float(), mean3)"
   ]
  },
  {
   "cell_type": "code",
   "execution_count": 70,
   "id": "530027c9",
   "metadata": {},
   "outputs": [
    {
     "data": {
      "text/plain": [
       "tensor(0.3021)"
      ]
     },
     "execution_count": 70,
     "metadata": {},
     "output_type": "execute_result"
    }
   ],
   "source": [
    "F.mse_loss(a_3, mean7).sqrt()"
   ]
  },
  {
   "cell_type": "code",
   "execution_count": null,
   "id": "1b71541a",
   "metadata": {},
   "outputs": [],
   "source": []
  },
  {
   "cell_type": "code",
   "execution_count": 71,
   "id": "99feb714",
   "metadata": {},
   "outputs": [
    {
     "data": {
      "text/plain": [
       "(torch.Size([1010, 28, 28]), torch.Size([1028, 28, 28]))"
      ]
     },
     "execution_count": 71,
     "metadata": {},
     "output_type": "execute_result"
    }
   ],
   "source": [
    "valid_3_tens = torch.stack(\n",
    "    [tensor(Image.open(o)) for o in (path/'valid'/'3').ls()]\n",
    ")\n",
    "valid_3_tens = valid_3_tens.float()/255\n",
    "\n",
    "valid_7_tens = torch.stack(\n",
    "    [tensor(Image.open(o)) for o in (path/'valid'/'7').ls()]\n",
    ")\n",
    "valid_7_tens = valid_7_tens.float()/255\n",
    "valid_3_tens.shape, valid_7_tens.shape"
   ]
  },
  {
   "cell_type": "code",
   "execution_count": 72,
   "id": "356f0da8",
   "metadata": {},
   "outputs": [
    {
     "data": {
      "text/plain": [
       "tensor(0.1114)"
      ]
     },
     "execution_count": 72,
     "metadata": {},
     "output_type": "execute_result"
    }
   ],
   "source": [
    "\n",
    "def mnist_distance(a,b): return (a-b).abs().mean((-1, -2))\n",
    "mnist_distance(a_3, mean3)"
   ]
  },
  {
   "cell_type": "code",
   "execution_count": 73,
   "id": "acbac8df",
   "metadata": {},
   "outputs": [
    {
     "data": {
      "text/plain": [
       "(tensor([0.1280, 0.1623, 0.1242,  ..., 0.1508, 0.1263, 0.1260]),\n",
       " torch.Size([1010]))"
      ]
     },
     "execution_count": 73,
     "metadata": {},
     "output_type": "execute_result"
    }
   ],
   "source": [
    "valid_3_dist = mnist_distance(valid_3_tens, mean3)\n",
    "valid_3_dist, valid_3_dist.shape"
   ]
  },
  {
   "cell_type": "code",
   "execution_count": 75,
   "id": "93298c0b",
   "metadata": {},
   "outputs": [],
   "source": [
    "# 1010 28 28\n",
    "#     28 28\n",
    "\n",
    "# --------------- BROADCASTING RULES -------------------:\n",
    "# - each tensor has at least one dimension\n",
    "# - after shifting the dimensions to the right; \n",
    "# the dimension sizes must either be equal, one of them is 1 or doesn't exist "
   ]
  },
  {
   "cell_type": "code",
   "execution_count": 78,
   "id": "249f8093",
   "metadata": {},
   "outputs": [],
   "source": [
    "def is_3(x): return mnist_distance(x, mean3) < mnist_distance(x, mean7)"
   ]
  },
  {
   "cell_type": "code",
   "execution_count": 79,
   "id": "fc6e465f",
   "metadata": {},
   "outputs": [
    {
     "data": {
      "text/plain": [
       "(tensor(True), tensor(1.))"
      ]
     },
     "execution_count": 79,
     "metadata": {},
     "output_type": "execute_result"
    }
   ],
   "source": [
    "is_3(a_3), is_3(a_3).float()"
   ]
  },
  {
   "cell_type": "code",
   "execution_count": 83,
   "id": "74efc2fd",
   "metadata": {},
   "outputs": [
    {
     "data": {
      "text/plain": [
       "tensor(0.9168)"
      ]
     },
     "execution_count": 83,
     "metadata": {},
     "output_type": "execute_result"
    }
   ],
   "source": [
    "is_3(valid_3_tens).float().mean()"
   ]
  },
  {
   "cell_type": "code",
   "execution_count": 81,
   "id": "9cd4d451",
   "metadata": {},
   "outputs": [
    {
     "data": {
      "text/plain": [
       "(tensor(0.9168), tensor(0.9854), tensor(0.9511))"
      ]
     },
     "execution_count": 81,
     "metadata": {},
     "output_type": "execute_result"
    }
   ],
   "source": [
    "accuracy_3s =      is_3(valid_3_tens).float().mean()\n",
    "accuracy_7s = (1 - is_3(valid_7_tens).float()).mean()\n",
    "\n",
    "accuracy_3s, accuracy_7s, (accuracy_3s+accuracy_7s)/2"
   ]
  },
  {
   "cell_type": "code",
   "execution_count": 85,
   "id": "45ca5733",
   "metadata": {},
   "outputs": [
    {
     "data": {
      "text/plain": [
       "(tensor(False), tensor(0.))"
      ]
     },
     "execution_count": 85,
     "metadata": {},
     "output_type": "execute_result"
    }
   ],
   "source": [
    "is_3(a_7), is_3(a_7).float()"
   ]
  },
  {
   "cell_type": "markdown",
   "id": "3e21ad25",
   "metadata": {},
   "source": [
    "### Stochastic Gradient Descent (SGD)"
   ]
  },
  {
   "cell_type": "code",
   "execution_count": 87,
   "id": "c21fc1d9",
   "metadata": {},
   "outputs": [],
   "source": [
    "# initalize the weights\n",
    "# make predictions based on those weights\n",
    "# calculate the performance of the model; that is, calc. loss\n",
    "# calculate gradient; how changing weight would change(decrease) the loss\n",
    "# tweak the weights by lil amount based on calculated gradient \n",
    "# go back to step 2 and repeat the process until you are satisfied with the model performance\n"
   ]
  },
  {
   "cell_type": "code",
   "execution_count": null,
   "id": "3cc54f61",
   "metadata": {},
   "outputs": [],
   "source": [
    "# Initialize: we initialize the parameters to random values\n",
    "# Loss: testing the effectiveness of current weight assignment in terms\n",
    "#       actual performance(loss)\n",
    "# Step: a simple way to figure out whether a weight is to be increased or decreased a bit\n",
    "# Stop: deciding whether to train the model more or stop "
   ]
  },
  {
   "cell_type": "markdown",
   "id": "50a0564a",
   "metadata": {},
   "source": [
    "#### A simple example"
   ]
  },
  {
   "cell_type": "code",
   "execution_count": 91,
   "id": "2f100478",
   "metadata": {},
   "outputs": [],
   "source": [
    "def f(x): return x**2"
   ]
  },
  {
   "cell_type": "code",
   "execution_count": 94,
   "id": "c3f7d528",
   "metadata": {},
   "outputs": [],
   "source": [
    "import matplotlib.pyplot as plt\n",
    "import numpy as np\n",
    "\n",
    "def plot_function(func, x_label='x', y_label='y', title=None, range=(-10, 10), resolution=400):\n",
    "    \"\"\"\n",
    "    Plots a mathematical function.\n",
    "\n",
    "    Parameters:\n",
    "    - func: The mathematical function to plot.\n",
    "    - x_label (str): The label for the x-axis.\n",
    "    - y_label (str): The label for the y-axis.\n",
    "    - title (str): The title of the plot.\n",
    "    - range (tuple): The range of x values to plot.\n",
    "    - resolution (int): The number of points to generate between the range.\n",
    "    \"\"\"\n",
    "    # Generate x values\n",
    "    x = np.linspace(range[0], range[1], resolution)\n",
    "\n",
    "    # Generate y values\n",
    "    y = func(x)\n",
    "\n",
    "    # Create the plot\n",
    "    plt.plot(x, y)\n",
    "    plt.xlabel(x_label)\n",
    "    plt.ylabel(y_label)\n",
    "    if title:\n",
    "        plt.title(title)\n",
    "    plt.show()\n",
    "\n",
    "# Example usage\n",
    "# def my_function(x):\n",
    "#     return x**2\n",
    "\n",
    "# plot_function(my_function, 'x', 'x**2', 'Plot of f(x) = x**2', range=(-10, 10))\n"
   ]
  },
  {
   "cell_type": "code",
   "execution_count": 99,
   "id": "d37ca397",
   "metadata": {},
   "outputs": [
    {
     "data": {
      "image/png": "[encoded data removed]",
      "text/plain": [
       "<Figure size 640x480 with 1 Axes>"
      ]
     },
     "metadata": {},
     "output_type": "display_data"
    }
   ],
   "source": [
    "plot_function(f, 'x', 'x**2', 'Plot of f(x) = x**2', range=(-2, 2))"
   ]
  },
  {
   "cell_type": "code",
   "execution_count": 100,
   "id": "a3e9da97",
   "metadata": {},
   "outputs": [],
   "source": [
    "xt = tensor(3.).requires_grad_()"
   ]
  },
  {
   "cell_type": "code",
   "execution_count": 101,
   "id": "e09b31c2",
   "metadata": {},
   "outputs": [
    {
     "data": {
      "text/plain": [
       "tensor(9., grad_fn=<PowBackward0>)"
      ]
     },
     "execution_count": 101,
     "metadata": {},
     "output_type": "execute_result"
    }
   ],
   "source": [
    "yt = f(xt)\n",
    "yt"
   ]
  },
  {
   "cell_type": "code",
   "execution_count": 102,
   "id": "2d6b19e9",
   "metadata": {},
   "outputs": [],
   "source": [
    "yt.backward()"
   ]
  },
  {
   "cell_type": "code",
   "execution_count": 103,
   "id": "4b96d9d2",
   "metadata": {},
   "outputs": [
    {
     "data": {
      "text/plain": [
       "tensor(6.)"
      ]
     },
     "execution_count": 103,
     "metadata": {},
     "output_type": "execute_result"
    }
   ],
   "source": [
    "xt.grad"
   ]
  },
  {
   "cell_type": "code",
   "execution_count": 104,
   "id": "7c7a03d0",
   "metadata": {},
   "outputs": [
    {
     "data": {
      "text/plain": [
       "tensor([ 3.,  4., 10.], requires_grad=True)"
      ]
     },
     "execution_count": 104,
     "metadata": {},
     "output_type": "execute_result"
    }
   ],
   "source": [
    "xt = tensor([3., 4., 10.]).requires_grad_()\n",
    "xt"
   ]
  },
  {
   "cell_type": "code",
   "execution_count": 105,
   "id": "8f6127f9",
   "metadata": {},
   "outputs": [
    {
     "data": {
      "text/plain": [
       "tensor(125., grad_fn=<SumBackward0>)"
      ]
     },
     "execution_count": 105,
     "metadata": {},
     "output_type": "execute_result"
    }
   ],
   "source": [
    "def f(x): return (x**2).sum()\n",
    "\n",
    "yt = f(xt)\n",
    "yt"
   ]
  },
  {
   "cell_type": "code",
   "execution_count": 106,
   "id": "6e78c25b",
   "metadata": {},
   "outputs": [],
   "source": [
    "yt.backward()"
   ]
  },
  {
   "cell_type": "code",
   "execution_count": 108,
   "id": "b3852b5f",
   "metadata": {},
   "outputs": [
    {
     "data": {
      "text/plain": [
       "tensor([ 6.,  8., 20.])"
      ]
     },
     "execution_count": 108,
     "metadata": {},
     "output_type": "execute_result"
    }
   ],
   "source": [
    "xt.grad"
   ]
  },
  {
   "cell_type": "markdown",
   "id": "9c6cfd24",
   "metadata": {},
   "source": [
    "#### Stepping with a learning rate"
   ]
  },
  {
   "cell_type": "code",
   "execution_count": 109,
   "id": "63efa643",
   "metadata": {},
   "outputs": [],
   "source": [
    "# w -=gradient(w) * lr\n",
    "\n",
    "# this is known as stepping your parameters, using an optimizer step"
   ]
  },
  {
   "cell_type": "markdown",
   "id": "7eb1be15",
   "metadata": {},
   "source": [
    "### An end-to-end SGD example"
   ]
  },
  {
   "cell_type": "code",
   "execution_count": 110,
   "id": "2d8ad185",
   "metadata": {},
   "outputs": [
    {
     "data": {
      "text/plain": [
       "tensor([ 0.,  1.,  2.,  3.,  4.,  5.,  6.,  7.,  8.,  9., 10., 11., 12., 13.,\n",
       "        14., 15., 16., 17., 18., 19.])"
      ]
     },
     "execution_count": 110,
     "metadata": {},
     "output_type": "execute_result"
    }
   ],
   "source": [
    "time = torch.arange(0,20).float(); time"
   ]
  },
  {
   "cell_type": "code",
   "execution_count": 111,
   "id": "4c7459bf",
   "metadata": {},
   "outputs": [
    {
     "data": {
      "text/plain": [
       "<matplotlib.collections.PathCollection at 0x1bca29d1fc0>"
      ]
     },
     "execution_count": 111,
     "metadata": {},
     "output_type": "execute_result"
    },
    {
     "data": {
      "image/png": "[encoded data removed]",
      "text/plain": [
       "<Figure size 640x480 with 1 Axes>"
      ]
     },
     "metadata": {},
     "output_type": "display_data"
    }
   ],
   "source": [
    "speed = torch.randn(20)*3 + 0.75*(time-9.5)**2 + 1\n",
    "plt.scatter(time, speed)"
   ]
  },
  {
   "cell_type": "code",
   "execution_count": 117,
   "id": "298356a4",
   "metadata": {},
   "outputs": [],
   "source": [
    "# we try to predict a function by observing the plotted data.\n",
    "# looks like a quadratic;\n",
    "# a*(t**2) + b*t + c"
   ]
  },
  {
   "cell_type": "code",
   "execution_count": 118,
   "id": "0dfc60e1",
   "metadata": {},
   "outputs": [],
   "source": [
    "def f(t, params):\n",
    "    a,b,c = params\n",
    "    return a*(t**2) + b*t + c"
   ]
  },
  {
   "cell_type": "code",
   "execution_count": 119,
   "id": "409f4753",
   "metadata": {},
   "outputs": [],
   "source": [
    "# we are trying to predict the best quadratic function to describe our data.\n",
    "# which implies the best values for parameters a,b and c\n",
    "\n",
    "# if we can do this, we can apply same approach to other complex functions"
   ]
  },
  {
   "cell_type": "code",
   "execution_count": 120,
   "id": "2ec60e9b",
   "metadata": {},
   "outputs": [],
   "source": [
    "# for continous data it's common to use mean squared error as loss function\n",
    "\n",
    "def mse(preds, targets): return ((preds-targets)**2).mean()"
   ]
  },
  {
   "cell_type": "code",
   "execution_count": 134,
   "id": "e29e1843",
   "metadata": {},
   "outputs": [],
   "source": [
    "# Step 1: Initalize the parameters randomly\n",
    "params = torch.randn(3).requires_grad_()"
   ]
  },
  {
   "cell_type": "code",
   "execution_count": 135,
   "id": "9b49c182",
   "metadata": {},
   "outputs": [
    {
     "data": {
      "text/plain": [
       "tensor([ 0.8157, -1.8471, -0.6651], requires_grad=True)"
      ]
     },
     "execution_count": 135,
     "metadata": {},
     "output_type": "execute_result"
    }
   ],
   "source": [
    "params"
   ]
  },
  {
   "cell_type": "code",
   "execution_count": 136,
   "id": "02fcbee5",
   "metadata": {},
   "outputs": [],
   "source": [
    "#hide\n",
    "orig_params = params.clone()"
   ]
  },
  {
   "cell_type": "code",
   "execution_count": 137,
   "id": "a522b9ca",
   "metadata": {},
   "outputs": [],
   "source": [
    "# Step 2: make predictions with intialized parameters\n",
    "preds = f(time, params)"
   ]
  },
  {
   "cell_type": "code",
   "execution_count": 138,
   "id": "cd28caa2",
   "metadata": {},
   "outputs": [
    {
     "data": {
      "image/png": "[encoded data removed]",
      "text/plain": [
       "<Figure size 640x480 with 1 Axes>"
      ]
     },
     "metadata": {},
     "output_type": "display_data"
    }
   ],
   "source": [
    "def show_preds(preds, ax=None):\n",
    "    if ax is None: ax=plt.subplots()[1]\n",
    "    ax.scatter(time, speed)\n",
    "    ax.scatter(time, to_np(preds), color='red')\n",
    "    ax.set_ylim(-300, 100)\n",
    "\n",
    "show_preds(preds)"
   ]
  },
  {
   "cell_type": "code",
   "execution_count": 139,
   "id": "500c64b5",
   "metadata": {},
   "outputs": [
    {
     "data": {
      "text/plain": [
       "tensor(9423.5078, grad_fn=<MeanBackward0>)"
      ]
     },
     "execution_count": 139,
     "metadata": {},
     "output_type": "execute_result"
    }
   ],
   "source": [
    "# Step 3: Calculate the loss\n",
    "loss = mse(preds, speed)\n",
    "loss"
   ]
  },
  {
   "cell_type": "code",
   "execution_count": 140,
   "id": "ec1a6d60",
   "metadata": {},
   "outputs": [
    {
     "data": {
      "text/plain": [
       "tensor([31392.7402,  1986.1914,   113.5754])"
      ]
     },
     "execution_count": 140,
     "metadata": {},
     "output_type": "execute_result"
    }
   ],
   "source": [
    "# Step 4: calculate the gradients\n",
    "loss.backward()\n",
    "params.grad"
   ]
  },
  {
   "cell_type": "code",
   "execution_count": 141,
   "id": "9e43e481",
   "metadata": {},
   "outputs": [
    {
     "data": {
      "text/plain": [
       "tensor([0.3139, 0.0199, 0.0011])"
      ]
     },
     "execution_count": 141,
     "metadata": {},
     "output_type": "execute_result"
    }
   ],
   "source": [
    "params.grad * 1e-5"
   ]
  },
  {
   "cell_type": "code",
   "execution_count": 142,
   "id": "fde5db55",
   "metadata": {},
   "outputs": [
    {
     "data": {
      "text/plain": [
       "tensor([ 0.8157, -1.8471, -0.6651], requires_grad=True)"
      ]
     },
     "execution_count": 142,
     "metadata": {},
     "output_type": "execute_result"
    }
   ],
   "source": [
    "params"
   ]
  },
  {
   "cell_type": "code",
   "execution_count": 143,
   "id": "d71bb748",
   "metadata": {},
   "outputs": [],
   "source": [
    "# Step 5: step the weights\n",
    "lr = 1e-5\n",
    "params.data -= lr * params.grad.data\n",
    "params.grad = None"
   ]
  },
  {
   "cell_type": "code",
   "execution_count": 145,
   "id": "d5bdbb47",
   "metadata": {},
   "outputs": [
    {
     "data": {
      "text/plain": [
       "tensor(2324.0813, grad_fn=<MeanBackward0>)"
      ]
     },
     "execution_count": 145,
     "metadata": {},
     "output_type": "execute_result"
    }
   ],
   "source": [
    "preds = f(time, params)\n",
    "mse(preds, speed)"
   ]
  },
  {
   "cell_type": "code",
   "execution_count": 146,
   "id": "467ac229",
   "metadata": {},
   "outputs": [
    {
     "data": {
      "image/png": "[encoded data removed]",
      "text/plain": [
       "<Figure size 640x480 with 1 Axes>"
      ]
     },
     "metadata": {},
     "output_type": "display_data"
    }
   ],
   "source": [
    "show_preds(preds)"
   ]
  },
  {
   "cell_type": "code",
   "execution_count": 151,
   "id": "0a611a27",
   "metadata": {},
   "outputs": [],
   "source": [
    "def apply_step(params, prn=True):\n",
    "    preds = f(time, params)\n",
    "    loss = mse(preds, speed)\n",
    "    loss.backward()\n",
    "    params.data -= lr * params.grad.data\n",
    "    params.grad = None\n",
    "    if prn: print(loss.item())\n",
    "    return preds"
   ]
  },
  {
   "cell_type": "code",
   "execution_count": 149,
   "id": "db87420c",
   "metadata": {},
   "outputs": [],
   "source": [
    "# Step 6: Repeat the process"
   ]
  },
  {
   "cell_type": "code",
   "execution_count": 152,
   "id": "2d1c7f1e",
   "metadata": {},
   "outputs": [
    {
     "name": "stdout",
     "output_type": "stream",
     "text": [
      "2324.081298828125\n",
      "980.6414794921875\n",
      "726.4104614257812\n",
      "678.290771484375\n",
      "669.1737060546875\n",
      "667.4370727539062\n",
      "667.0971069335938\n",
      "667.021484375\n",
      "666.995849609375\n",
      "666.979736328125\n"
     ]
    }
   ],
   "source": [
    "for i in range(10): apply_step(params)"
   ]
  },
  {
   "cell_type": "code",
   "execution_count": 154,
   "id": "bb97427a",
   "metadata": {},
   "outputs": [],
   "source": [
    "#hide \n",
    "params = orig_params.detach().requires_grad_()"
   ]
  },
  {
   "cell_type": "code",
   "execution_count": 155,
   "id": "3cb27108",
   "metadata": {},
   "outputs": [
    {
     "data": {
      "image/png": "[encoded data removed]",
      "text/plain": [
       "<Figure size 1200x300 with 4 Axes>"
      ]
     },
     "metadata": {},
     "output_type": "display_data"
    }
   ],
   "source": [
    "_, axs = plt.subplots(1,4, figsize=(12,3))\n",
    "for ax in axs: show_preds(apply_step(params, False), ax)\n",
    "plt.tight_layout()"
   ]
  },
  {
   "cell_type": "code",
   "execution_count": 156,
   "id": "fe3ee496",
   "metadata": {},
   "outputs": [],
   "source": [
    "# Step 7: Stop"
   ]
  },
  {
   "cell_type": "markdown",
   "id": "a69b1f9d",
   "metadata": {},
   "source": [
    "## MNIST Loss Function"
   ]
  },
  {
   "cell_type": "code",
   "execution_count": 160,
   "id": "09800a6d",
   "metadata": {},
   "outputs": [
    {
     "data": {
      "text/plain": [
       "torch.Size([12396, 784])"
      ]
     },
     "execution_count": 160,
     "metadata": {},
     "output_type": "execute_result"
    }
   ],
   "source": [
    "train_x = torch.cat([stacked_threes, stacked_sevens]).view(-1, 28*28)\n",
    "train_x.shape"
   ]
  },
  {
   "cell_type": "code",
   "execution_count": 164,
   "id": "c20e5254",
   "metadata": {},
   "outputs": [
    {
     "data": {
      "text/plain": [
       "torch.Size([12396, 1])"
      ]
     },
     "execution_count": 164,
     "metadata": {},
     "output_type": "execute_result"
    }
   ],
   "source": [
    "# we need label for each image; we use 1 for 3s and 0 for 7s\n",
    "train_y = tensor([1]*len(threes) + [0]*len(sevens)).unsqueeze(1)\n",
    "train_y.shape"
   ]
  },
  {
   "cell_type": "code",
   "execution_count": 174,
   "id": "2de56f4c",
   "metadata": {},
   "outputs": [
    {
     "data": {
      "text/plain": [
       "(torch.Size([784]), tensor([1]))"
      ]
     },
     "execution_count": 174,
     "metadata": {},
     "output_type": "execute_result"
    }
   ],
   "source": [
    "dset = list(zip(train_x, train_y))\n",
    "x,y = dset[0]\n",
    "x.shape, y"
   ]
  },
  {
   "cell_type": "code",
   "execution_count": 175,
   "id": "eb3a8741",
   "metadata": {},
   "outputs": [],
   "source": [
    "valid_x = torch.cat([valid_3_tens, valid_7_tens]).view(-1, 28*28)\n",
    "valid_y = tensor([1]*len(valid_3_tens) + [0]*len(valid_7_tens)).unsqueeze(1)\n",
    "valid_dset = list(zip(valid_x, valid_y))"
   ]
  },
  {
   "cell_type": "code",
   "execution_count": 176,
   "id": "259a88df",
   "metadata": {},
   "outputs": [],
   "source": [
    "# we need to initialize weights randomly for every pixel\n",
    "def init_params(size, std=1.0):\n",
    "    return (torch.randn(size)*std).requires_grad_()"
   ]
  },
  {
   "cell_type": "code",
   "execution_count": 177,
   "id": "5c922b78",
   "metadata": {},
   "outputs": [
    {
     "data": {
      "text/plain": [
       "torch.Size([784, 1])"
      ]
     },
     "execution_count": 177,
     "metadata": {},
     "output_type": "execute_result"
    }
   ],
   "source": [
    "weights = init_params((28*28, 1))\n",
    "weights.shape"
   ]
  },
  {
   "cell_type": "code",
   "execution_count": 180,
   "id": "a75b8fb0",
   "metadata": {},
   "outputs": [
    {
     "data": {
      "text/plain": [
       "tensor([-1.5117], requires_grad=True)"
      ]
     },
     "execution_count": 180,
     "metadata": {},
     "output_type": "execute_result"
    }
   ],
   "source": [
    "# bias\n",
    "bias = init_params(1)\n",
    "bias"
   ]
  },
  {
   "cell_type": "code",
   "execution_count": 181,
   "id": "8ee7c49f",
   "metadata": {},
   "outputs": [
    {
     "data": {
      "text/plain": [
       "tensor([9.7979], grad_fn=<AddBackward0>)"
      ]
     },
     "execution_count": 181,
     "metadata": {},
     "output_type": "execute_result"
    }
   ],
   "source": [
    "# y = w*x + b\n",
    "(train_x[0]*weights.T).sum() + bias"
   ]
  },
  {
   "cell_type": "code",
   "execution_count": 206,
   "id": "e6b39dfa",
   "metadata": {},
   "outputs": [
    {
     "data": {
      "text/plain": [
       "torch.Size([784, 784])"
      ]
     },
     "execution_count": 206,
     "metadata": {},
     "output_type": "execute_result"
    }
   ],
   "source": [
    "(train_x[0]*weights).shape"
   ]
  },
  {
   "cell_type": "code",
   "execution_count": 208,
   "id": "d4b78723",
   "metadata": {},
   "outputs": [
    {
     "data": {
      "text/plain": [
       "(tensor([[ 9.7979],\n",
       "         [ 2.7399],\n",
       "         [ 2.1788],\n",
       "         ...,\n",
       "         [-2.8513],\n",
       "         [20.1345],\n",
       "         [ 4.6138]], grad_fn=<AddBackward0>),\n",
       " torch.Size([12396, 1]))"
      ]
     },
     "execution_count": 208,
     "metadata": {},
     "output_type": "execute_result"
    }
   ],
   "source": [
    "def linear1(xb): return xb@weights + bias\n",
    "preds = linear1(train_x)\n",
    "preds, preds.shape"
   ]
  },
  {
   "cell_type": "code",
   "execution_count": 209,
   "id": "012f73af",
   "metadata": {},
   "outputs": [
    {
     "data": {
      "text/plain": [
       "tensor([[ True],\n",
       "        [ True],\n",
       "        [ True],\n",
       "        ...,\n",
       "        [ True],\n",
       "        [False],\n",
       "        [False]])"
      ]
     },
     "execution_count": 209,
     "metadata": {},
     "output_type": "execute_result"
    }
   ],
   "source": [
    "corrects = (preds>0.0).float() == train_y\n",
    "corrects"
   ]
  },
  {
   "cell_type": "code",
   "execution_count": 211,
   "id": "e9a119e5",
   "metadata": {},
   "outputs": [
    {
     "data": {
      "text/plain": [
       "0.3034043312072754"
      ]
     },
     "execution_count": 211,
     "metadata": {},
     "output_type": "execute_result"
    }
   ],
   "source": [
    "corrects.float().mean().item()"
   ]
  },
  {
   "cell_type": "code",
   "execution_count": 212,
   "id": "289a56eb",
   "metadata": {},
   "outputs": [],
   "source": [
    "# change in accuracy for a small change in weights\n",
    "with torch.no_grad(): weights[0] *= 1.0001"
   ]
  },
  {
   "cell_type": "code",
   "execution_count": 213,
   "id": "a07fdf57",
   "metadata": {},
   "outputs": [
    {
     "data": {
      "text/plain": [
       "0.3034043312072754"
      ]
     },
     "execution_count": 213,
     "metadata": {},
     "output_type": "execute_result"
    }
   ],
   "source": [
    "preds = linear1(train_x)\n",
    "((preds>0.0).float() == train_y).float().mean().item()"
   ]
  },
  {
   "cell_type": "code",
   "execution_count": 218,
   "id": "7e8d9faf",
   "metadata": {},
   "outputs": [
    {
     "data": {
      "text/plain": [
       "tensor(0.3034)"
      ]
     },
     "execution_count": 218,
     "metadata": {},
     "output_type": "execute_result"
    }
   ],
   "source": [
    "corrects.float().mean()"
   ]
  },
  {
   "cell_type": "code",
   "execution_count": 219,
   "id": "ef77aab3",
   "metadata": {},
   "outputs": [
    {
     "data": {
      "image/png": "[encoded data removed]",
      "text/plain": [
       "<Figure size 640x480 with 1 Axes>"
      ]
     },
     "metadata": {},
     "output_type": "display_data"
    }
   ],
   "source": [
    "import numpy as np\n",
    "import matplotlib.pyplot as plt\n",
    "\n",
    "# Simulated probability scores\n",
    "probabilities = np.linspace(0, 1, 1000)\n",
    "\n",
    "# Accuracy function using 0.5 as threshold\n",
    "accuracy = np.where(probabilities > 0.5, 1, 0)\n",
    "\n",
    "# Plot\n",
    "plt.plot(probabilities, accuracy)\n",
    "plt.title(\"Accuracy vs. Predicted Probability\")\n",
    "plt.xlabel(\"Predicted Probability\")\n",
    "plt.ylabel(\"Accuracy\")\n",
    "plt.show()\n"
   ]
  },
  {
   "cell_type": "code",
   "execution_count": null,
   "id": "a10f2d08",
   "metadata": {},
   "outputs": [],
   "source": []
  }
 ],
 "metadata": {
  "kernelspec": {
   "display_name": "Python 3 (ipykernel)",
   "language": "python",
   "name": "python3"
  },
  "language_info": {
   "codemirror_mode": {
    "name": "ipython",
    "version": 3
   },
   "file_extension": ".py",
   "mimetype": "text/x-python",
   "name": "python",
   "nbconvert_exporter": "python",
   "pygments_lexer": "ipython3",
   "version": "3.10.7"
  }
 },
 "nbformat": 4,
 "nbformat_minor": 5
}
