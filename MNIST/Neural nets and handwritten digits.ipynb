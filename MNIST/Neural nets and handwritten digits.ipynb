{
 "cells": [
  {
   "cell_type": "markdown",
   "id": "a20343f4",
   "metadata": {},
   "source": [
    "# Using neural nets to recognize handwritten digits"
   ]
  },
  {
   "cell_type": "raw",
   "id": "ff57c7d7",
   "metadata": {},
   "source": [
    "⇒ Recognizing a sequence of digits like 509194 seems quite easy for humans.\n",
    "⇒ But that ease is deception. In each hemisphere of our brain, \n",
    "⇒ We have primary visual cortex(v1) with over 140 million neurons and billions of connections b/w them,\n",
    "⇒ and yet human vision involves a series of such visual cortices v1, v2, v3... to help us do complex image processings.\n",
    "⇒ We carry a supercomputer in our heads which does most of the work subconsiously"
   ]
  },
  {
   "cell_type": "raw",
   "id": "fbb2d0c1",
   "metadata": {},
   "source": [
    "⇒ The difficulty of a visual recognition pattern becomes apparent if you try to write a program (using traditiona computer paradigms) to recognize handwritten digits.\n",
    "⇒ A simple shape of 9: a loop at the top and a vertical stroke at bottom right, becomes a daunty task to express algorithmically\n",
    "⇒ Because there are lots of anomalies and exceptions and possiblities in which a simple digit can be written.\n",
    "⇒ Utterly hopeless"
   ]
  },
  {
   "cell_type": "raw",
   "id": "c2d2dac4",
   "metadata": {},
   "source": [
    "⇒ Neural networks approach these problems differently.\n",
    "⇒ The idea is to develop a system that can learn from large amount of data on handwritten digits.\n",
    "⇒ The greater the amount of data the neural net is trained, the better the model is at recognizing digits."
   ]
  },
  {
   "cell_type": "raw",
   "id": "e33c5fc4",
   "metadata": {},
   "source": [
    "⇒ We will write a computer program (just 74 lines of code with no special neural net lib used) to recognize handwritten digits.\n",
    "⇒ It would recognize digits with an accuracy over 96 percent.\n",
    "\n",
    "⇒ In later chapters, we would more ideas which can improve the accuracy to over 99 percent"
   ]
  },
  {
   "cell_type": "markdown",
   "id": "b46969f2",
   "metadata": {},
   "source": [
    "- Handwritten digits are an excellent prototype problem for learning about neural networks.\n",
    "\n",
    "- It hits a sweet spot. It's challenging yet not so difficult as to require complex solutions or tremendous computation"
   ]
  },
  {
   "cell_type": "markdown",
   "id": "167f9857",
   "metadata": {},
   "source": [
    "- We will also see how these ideas can be applied to other computer vision problems or in speech or natural language domains"
   ]
  },
  {
   "cell_type": "code",
   "execution_count": 2,
   "id": "46ec4ed4",
   "metadata": {},
   "outputs": [],
   "source": [
    "# We will learn two important artificial neurons:\n",
    "# 1. Perceptron and Sigmoid neuron\n",
    "# 2.  the standard learning algorithm for neural nets: SGD\n",
    "\n",
    "# At the end of the chapter, you would be in position to understand what \n",
    "# deep learning is and why it matters"
   ]
  },
  {
   "cell_type": "markdown",
   "id": "65efd17f",
   "metadata": {},
   "source": [
    "## Perceptrons"
   ]
  },
  {
   "cell_type": "code",
   "execution_count": 8,
   "id": "533ef858",
   "metadata": {},
   "outputs": [],
   "source": [
    "# Perceptrons were developed by Frank Rosenblatt in the 1950-60s \n",
    "# inspired by early works of Warren McCulloch and Walter Pitts"
   ]
  },
  {
   "cell_type": "code",
   "execution_count": 7,
   "id": "2cda6878",
   "metadata": {},
   "outputs": [],
   "source": [
    "# How do perceptrons work? \n",
    "# A perceptrons takes several binary inputs x1, x2, x3... and \n",
    "# gives a single binary output(0,1)\n",
    "\n",
    "# Each of the inputs  x1,x2,x3... are associated with weights w1,w2,w3... \n",
    "# expressing the importance of the respective inputs to the output\n",
    "\n",
    "# The neuron's output 0 or 1 is determined by whether the weighted sum, \n",
    "# ∑wixi is less than or greater than certain threshold value"
   ]
  },
  {
   "cell_type": "markdown",
   "id": "5ea7c772",
   "metadata": {},
   "source": [
    "$$\n",
    "output = \n",
    "\\begin{cases} \n",
    "0 & \\text{if } \\sum_{j} w_j x_j \\leq \\text{threshold} \\\\\n",
    "1 & \\text{if } \\sum_{j} w_j x_j > \\text{threshold}\n",
    "\\end{cases}\n",
    "$$"
   ]
  },
  {
   "cell_type": "code",
   "execution_count": 9,
   "id": "527a9de1",
   "metadata": {},
   "outputs": [],
   "source": [
    "# more simpler way to describe perceptrons"
   ]
  },
  {
   "cell_type": "markdown",
   "id": "7828a0bc",
   "metadata": {},
   "source": [
    "$$\n",
    "output = \n",
    "\\begin{cases} \n",
    "0 & \\text{if } \\mathbf{w} \\cdot \\mathbf{x} + b \\leq 0 \\\\\n",
    "1 & \\text{if } \\mathbf{w} \\cdot \\mathbf{x} + b > 0\n",
    "\\end{cases}\n",
    "$$\n"
   ]
  },
  {
   "cell_type": "code",
   "execution_count": 10,
   "id": "e78f8cf4",
   "metadata": {},
   "outputs": [],
   "source": [
    "# Rosenblatt's perceptron"
   ]
  },
  {
   "cell_type": "markdown",
   "id": "1cd0912e",
   "metadata": {},
   "source": []
  },
  {
   "cell_type": "code",
   "execution_count": 11,
   "id": "47dd0c43",
   "metadata": {},
   "outputs": [],
   "source": []
  },
  {
   "cell_type": "code",
   "execution_count": null,
   "id": "6934206c",
   "metadata": {},
   "outputs": [],
   "source": []
  },
  {
   "cell_type": "markdown",
   "id": "dd23b9d5",
   "metadata": {},
   "source": [
    "![](http://neuralnetworksanddeeplearning.com/images/tikz13.png)"
   ]
  },
  {
   "cell_type": "code",
   "execution_count": null,
   "id": "f579abc3",
   "metadata": {},
   "outputs": [],
   "source": []
  },
  {
   "cell_type": "code",
   "execution_count": null,
   "id": "23ebcc14",
   "metadata": {},
   "outputs": [],
   "source": []
  }
 ],
 "metadata": {
  "kernelspec": {
   "display_name": "Python 3 (ipykernel)",
   "language": "python",
   "name": "python3"
  },
  "language_info": {
   "codemirror_mode": {
    "name": "ipython",
    "version": 3
   },
   "file_extension": ".py",
   "mimetype": "text/x-python",
   "name": "python",
   "nbconvert_exporter": "python",
   "pygments_lexer": "ipython3",
   "version": "3.12.1"
  }
 },
 "nbformat": 4,
 "nbformat_minor": 5
}
