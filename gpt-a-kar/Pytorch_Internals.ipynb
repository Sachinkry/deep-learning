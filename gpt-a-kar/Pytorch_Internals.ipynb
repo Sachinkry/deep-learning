{
 "cells": [
  {
   "cell_type": "code",
   "execution_count": 14,
   "id": "450733ec-fd9b-47d6-8528-d072d500ab4d",
   "metadata": {},
   "outputs": [],
   "source": [
    "# CONCEPTS: tensor \n",
    "#           storage \n",
    "#           strides \n",
    "#           layout \n",
    "#           device \n",
    "#           dytype  "
   ]
  },
  {
   "cell_type": "code",
   "execution_count": 1,
   "id": "b3daa79d-a0c4-4585-bf90-c13978db2507",
   "metadata": {},
   "outputs": [
    {
     "name": "stdout",
     "output_type": "stream",
     "text": [
      "(4, 1)\n"
     ]
    }
   ],
   "source": [
    "import torch\n",
    "\n",
    "# Create a 2D tensor (3x4)\n",
    "t = torch.tensor([[1, 2, 3, 4],\n",
    "                  [5, 6, 7, 8],\n",
    "                  [9, 10, 11, 12]])\n",
    "\n",
    "# Check the strides\n",
    "print(t.stride())  # Output will be (4, 1) for a 3x4 tensor in row-major order\n"
   ]
  },
  {
   "cell_type": "code",
   "execution_count": 12,
   "id": "b85922fc-f162-4271-84eb-1f9745c18bd9",
   "metadata": {},
   "outputs": [
    {
     "data": {
      "text/plain": [
       "(torch.Size([3, 4]),\n",
       " (4, 1),\n",
       " torch.int64,\n",
       " device(type='cpu'),\n",
       " torch.strided,\n",
       " True)"
      ]
     },
     "execution_count": 12,
     "metadata": {},
     "output_type": "execute_result"
    }
   ],
   "source": [
    "t.size(), t.stride(), t.dtype, t.device, t.layout, t.is_contiguous()"
   ]
  },
  {
   "cell_type": "code",
   "execution_count": 20,
   "id": "8ed9526d-56b1-45fd-bfe9-c6ef0ef13764",
   "metadata": {},
   "outputs": [],
   "source": [
    "t_transposed = t.t()"
   ]
  },
  {
   "cell_type": "code",
   "execution_count": 22,
   "id": "e4f13338-4e03-4de6-b390-dad0012f3860",
   "metadata": {},
   "outputs": [
    {
     "data": {
      "text/plain": [
       "(torch.Size([4, 3]), (1, 4), torch.int64, torch.strided, False)"
      ]
     },
     "execution_count": 22,
     "metadata": {},
     "output_type": "execute_result"
    }
   ],
   "source": [
    "t_transposed.size(),t_transposed.stride(), t_transposed.dtype, t_transposed.layout, t_transposed.is_contiguous()"
   ]
  },
  {
   "cell_type": "code",
   "execution_count": 23,
   "id": "99a638b0-7565-48b6-bead-f006975926a9",
   "metadata": {},
   "outputs": [
    {
     "data": {
      "text/plain": [
       "tensor([[ 1,  5,  9],\n",
       "        [ 2,  6, 10],\n",
       "        [ 3,  7, 11],\n",
       "        [ 4,  8, 12]])"
      ]
     },
     "execution_count": 23,
     "metadata": {},
     "output_type": "execute_result"
    }
   ],
   "source": [
    "t_transposed"
   ]
  },
  {
   "cell_type": "code",
   "execution_count": 18,
   "id": "8863bbcf-58a7-4aaa-9feb-a418c7c29556",
   "metadata": {},
   "outputs": [
    {
     "data": {
      "text/plain": [
       " 1\n",
       " 2\n",
       " 3\n",
       " 4\n",
       " 5\n",
       " 6\n",
       " 7\n",
       " 8\n",
       " 9\n",
       " 10\n",
       " 11\n",
       " 12\n",
       "[torch.storage.TypedStorage(dtype=torch.int64, device=cpu) of size 12]"
      ]
     },
     "execution_count": 18,
     "metadata": {},
     "output_type": "execute_result"
    }
   ],
   "source": [
    "t.storage()"
   ]
  },
  {
   "cell_type": "code",
   "execution_count": 26,
   "id": "7ce6a012-2a89-418a-834b-c63ac44d8266",
   "metadata": {},
   "outputs": [],
   "source": [
    "# Transposing a tensor doesn't change how the data is stored in the memory. \n",
    "# PyTorch uses stride to represent the tensor as newly transformed form here."
   ]
  },
  {
   "cell_type": "code",
   "execution_count": 27,
   "id": "d6e2ffc8-2257-4055-8907-f486624b2d8b",
   "metadata": {},
   "outputs": [],
   "source": [
    "# Strides are also the fundamental basis of how views work in PyTorch users"
   ]
  },
  {
   "cell_type": "code",
   "execution_count": 31,
   "id": "5be4974b-dd57-43c1-9515-c97728b59f5e",
   "metadata": {},
   "outputs": [
    {
     "data": {
      "text/plain": [
       "tensor(2)"
      ]
     },
     "execution_count": 31,
     "metadata": {},
     "output_type": "execute_result"
    }
   ],
   "source": [
    "t[0,1]    # stride is (4,1), so 4*0 + 1*1 = 1; at index 1, the element is 2"
   ]
  },
  {
   "cell_type": "code",
   "execution_count": 32,
   "id": "cd938474-d372-4652-bf49-0ba33bce7895",
   "metadata": {},
   "outputs": [
    {
     "data": {
      "text/plain": [
       "tensor([5, 6, 7, 8])"
      ]
     },
     "execution_count": 32,
     "metadata": {},
     "output_type": "execute_result"
    }
   ],
   "source": [
    "t[1]     # 1*4 + 0*1 = 4, and then use t.size to slice upto to next 4 elements"
   ]
  },
  {
   "cell_type": "code",
   "execution_count": 33,
   "id": "0fde6cc1-c313-4165-9d38-cd88cd9af2d5",
   "metadata": {},
   "outputs": [],
   "source": [
    "# metadatas play quite an important role in all kinds of operations we do with tensors"
   ]
  },
  {
   "cell_type": "code",
   "execution_count": 36,
   "id": "8a664427-d355-4ac8-aebf-4fa0bbee600c",
   "metadata": {},
   "outputs": [
    {
     "data": {
      "text/plain": [
       "tensor([ 3,  7, 11])"
      ]
     },
     "execution_count": 36,
     "metadata": {},
     "output_type": "execute_result"
    }
   ],
   "source": [
    "t[:,2]   # 0*4 + 1*2 = 2, then use t.size() to "
   ]
  },
  {
   "cell_type": "code",
   "execution_count": 37,
   "id": "e75817c4-a401-4e67-be34-14ab0d7430fb",
   "metadata": {},
   "outputs": [],
   "source": [
    "# -------------- TENSOR WRAPPER --------------"
   ]
  },
  {
   "cell_type": "code",
   "execution_count": 38,
   "id": "493edabb-1691-4a3c-b7df-ee3c71c6a095",
   "metadata": {},
   "outputs": [],
   "source": [
    "# Implement a tensor wrapper when:\n",
    "# 1. you want to add additional methods or properties to a tensor\n",
    "# 2. you don't need to modify the  underlying tensor data or how it participates in gradient calculations\n",
    "# 3. you additional functionality doesn't need to be preserved through the backward pass"
   ]
  },
  {
   "cell_type": "code",
   "execution_count": 41,
   "id": "1f214be0-f788-4ce5-85b2-36c2a9de9544",
   "metadata": {},
   "outputs": [
    {
     "name": "stdout",
     "output_type": "stream",
     "text": [
      "MyTensorWrapper of shape torch.Size([3, 4])\n",
      "tensor(0.9404)\n"
     ]
    }
   ],
   "source": [
    "# Implementing a Tensor Wrapper \n",
    "import torch\n",
    "\n",
    "class MyTensorWrapper:\n",
    "    def __init__(self, tensor):\n",
    "        self.tensor = tensor\n",
    "\n",
    "    def __repr__(self):\n",
    "        return f\"MyTensorWrapper of shape {self.tensor.shape}\"\n",
    "\n",
    "    # add custom methods here:\n",
    "    def sum(self):\n",
    "        return self.tensor.sum()\n",
    "\n",
    "\n",
    "# now let's use our wrapper\n",
    "tensor = torch.randn(3,4)\n",
    "wrapped_t = MyTensorWrapper(tensor)\n",
    "\n",
    "print(wrapped_t)\n",
    "print(wrapped_t.sum())"
   ]
  },
  {
   "cell_type": "code",
   "execution_count": 43,
   "id": "bcd8716a-ca58-42bd-9f7e-4685599ba79b",
   "metadata": {},
   "outputs": [
    {
     "data": {
      "text/plain": [
       "tensor([[ 1.0104,  1.7513,  1.3724,  0.3835],\n",
       "        [ 0.4214, -0.8968, -0.6653,  0.7394],\n",
       "        [-0.0072, -2.2337,  1.0739, -2.0089]])"
      ]
     },
     "execution_count": 43,
     "metadata": {},
     "output_type": "execute_result"
    }
   ],
   "source": [
    "tensor"
   ]
  },
  {
   "cell_type": "code",
   "execution_count": 44,
   "id": "e4af3350-20ac-4d53-8b51-9530a75930a0",
   "metadata": {},
   "outputs": [
    {
     "data": {
      "text/plain": [
       "tensor(0.9404)"
      ]
     },
     "execution_count": 44,
     "metadata": {},
     "output_type": "execute_result"
    }
   ],
   "source": [
    "tensor.sum()"
   ]
  },
  {
   "cell_type": "code",
   "execution_count": 45,
   "id": "afef5cc6-d26e-4091-a354-326ae3af09de",
   "metadata": {},
   "outputs": [],
   "source": [
    "# If you want the tensor to behave differently during gradient calculation \n",
    "# in the backward pass, you need to use tensor extensions.\n",
    "# otherwise, a wrapper class is simpler"
   ]
  },
  {
   "cell_type": "code",
   "execution_count": null,
   "id": "4b3afade-4687-4d99-a080-4d4145a2f299",
   "metadata": {},
   "outputs": [],
   "source": []
  }
 ],
 "metadata": {
  "kernelspec": {
   "display_name": "Python 3 (ipykernel)",
   "language": "python",
   "name": "python3"
  },
  "language_info": {
   "codemirror_mode": {
    "name": "ipython",
    "version": 3
   },
   "file_extension": ".py",
   "mimetype": "text/x-python",
   "name": "python",
   "nbconvert_exporter": "python",
   "pygments_lexer": "ipython3",
   "version": "3.10.11"
  }
 },
 "nbformat": 4,
 "nbformat_minor": 5
}
